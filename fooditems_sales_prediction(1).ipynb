{
 "cells": [
  {
   "cell_type": "code",
   "execution_count": 1,
   "id": "bdcb142a",
   "metadata": {},
   "outputs": [],
   "source": [
    "import pandas as pd\n",
    "import numpy as np\n",
    "import seaborn as sns\n",
    "import matplotlib.pyplot as plt\n",
    "import warnings\n",
    "warnings.filterwarnings('ignore')"
   ]
  },
  {
   "cell_type": "code",
   "execution_count": 2,
   "id": "e8245ba9",
   "metadata": {},
   "outputs": [
    {
     "name": "stdout",
     "output_type": "stream",
     "text": [
      "(5044923, 8)\n"
     ]
    },
    {
     "data": {
      "text/html": [
       "<div>\n",
       "<style scoped>\n",
       "    .dataframe tbody tr th:only-of-type {\n",
       "        vertical-align: middle;\n",
       "    }\n",
       "\n",
       "    .dataframe tbody tr th {\n",
       "        vertical-align: top;\n",
       "    }\n",
       "\n",
       "    .dataframe thead th {\n",
       "        text-align: right;\n",
       "    }\n",
       "</style>\n",
       "<table border=\"1\" class=\"dataframe\">\n",
       "  <thead>\n",
       "    <tr style=\"text-align: right;\">\n",
       "      <th></th>\n",
       "      <th>State</th>\n",
       "      <th>Centre</th>\n",
       "      <th>Commodity</th>\n",
       "      <th>Variety</th>\n",
       "      <th>Unit</th>\n",
       "      <th>Category</th>\n",
       "      <th>Date</th>\n",
       "      <th>Retail Price</th>\n",
       "    </tr>\n",
       "  </thead>\n",
       "  <tbody>\n",
       "    <tr>\n",
       "      <th>0</th>\n",
       "      <td>Andhra Pradesh</td>\n",
       "      <td>Chittoor</td>\n",
       "      <td>Apple</td>\n",
       "      <td>Delicious medium size</td>\n",
       "      <td>Kg.</td>\n",
       "      <td>Food</td>\n",
       "      <td>05/01/2001</td>\n",
       "      <td>NaN</td>\n",
       "    </tr>\n",
       "    <tr>\n",
       "      <th>1</th>\n",
       "      <td>Andhra Pradesh</td>\n",
       "      <td>Guntur</td>\n",
       "      <td>Apple</td>\n",
       "      <td>Delicious medium size</td>\n",
       "      <td>Kg.</td>\n",
       "      <td>Food</td>\n",
       "      <td>05/01/2001</td>\n",
       "      <td>NaN</td>\n",
       "    </tr>\n",
       "    <tr>\n",
       "      <th>2</th>\n",
       "      <td>Andhra Pradesh</td>\n",
       "      <td>Kurnool</td>\n",
       "      <td>Apple</td>\n",
       "      <td>Delicious medium size</td>\n",
       "      <td>Kg.</td>\n",
       "      <td>Food</td>\n",
       "      <td>05/01/2001</td>\n",
       "      <td>NaN</td>\n",
       "    </tr>\n",
       "    <tr>\n",
       "      <th>3</th>\n",
       "      <td>Andhra Pradesh</td>\n",
       "      <td>Vishakhapatnam</td>\n",
       "      <td>Apple</td>\n",
       "      <td>Delicious medium size</td>\n",
       "      <td>Kg.</td>\n",
       "      <td>Food</td>\n",
       "      <td>05/01/2001</td>\n",
       "      <td>NaN</td>\n",
       "    </tr>\n",
       "    <tr>\n",
       "      <th>4</th>\n",
       "      <td>Arunachal Pradesh</td>\n",
       "      <td>Itanagar</td>\n",
       "      <td>Apple</td>\n",
       "      <td>Delicious medium size</td>\n",
       "      <td>Kg.</td>\n",
       "      <td>Food</td>\n",
       "      <td>05/01/2001</td>\n",
       "      <td>NaN</td>\n",
       "    </tr>\n",
       "  </tbody>\n",
       "</table>\n",
       "</div>"
      ],
      "text/plain": [
       "               State          Centre Commodity                Variety Unit  \\\n",
       "0     Andhra Pradesh        Chittoor     Apple  Delicious medium size  Kg.   \n",
       "1     Andhra Pradesh          Guntur     Apple  Delicious medium size  Kg.   \n",
       "2     Andhra Pradesh         Kurnool     Apple  Delicious medium size  Kg.   \n",
       "3     Andhra Pradesh  Vishakhapatnam     Apple  Delicious medium size  Kg.   \n",
       "4  Arunachal Pradesh        Itanagar     Apple  Delicious medium size  Kg.   \n",
       "\n",
       "  Category        Date  Retail Price  \n",
       "0     Food  05/01/2001           NaN  \n",
       "1     Food  05/01/2001           NaN  \n",
       "2     Food  05/01/2001           NaN  \n",
       "3     Food  05/01/2001           NaN  \n",
       "4     Food  05/01/2001           NaN  "
      ]
     },
     "execution_count": 2,
     "metadata": {},
     "output_type": "execute_result"
    }
   ],
   "source": [
    "# Import data\n",
    "sales = pd.read_csv(r'C:\\Users\\Rajashri\\Desktop\\Resume\\Resume Projects\\Sales prediction\\website\\Weekly_Food_Retail_Prices.csv')\n",
    "\n",
    "print(sales.shape)\n",
    "sales.head(5)"
   ]
  },
  {
   "cell_type": "code",
   "execution_count": 3,
   "id": "a23ada5d",
   "metadata": {},
   "outputs": [
    {
     "data": {
      "text/html": [
       "<div>\n",
       "<style scoped>\n",
       "    .dataframe tbody tr th:only-of-type {\n",
       "        vertical-align: middle;\n",
       "    }\n",
       "\n",
       "    .dataframe tbody tr th {\n",
       "        vertical-align: top;\n",
       "    }\n",
       "\n",
       "    .dataframe thead th {\n",
       "        text-align: right;\n",
       "    }\n",
       "</style>\n",
       "<table border=\"1\" class=\"dataframe\">\n",
       "  <thead>\n",
       "    <tr style=\"text-align: right;\">\n",
       "      <th></th>\n",
       "      <th>Retail Price</th>\n",
       "    </tr>\n",
       "  </thead>\n",
       "  <tbody>\n",
       "    <tr>\n",
       "      <th>count</th>\n",
       "      <td>2.051754e+06</td>\n",
       "    </tr>\n",
       "    <tr>\n",
       "      <th>mean</th>\n",
       "      <td>8.385372e+01</td>\n",
       "    </tr>\n",
       "    <tr>\n",
       "      <th>std</th>\n",
       "      <td>1.486131e+02</td>\n",
       "    </tr>\n",
       "    <tr>\n",
       "      <th>min</th>\n",
       "      <td>-4.500000e+01</td>\n",
       "    </tr>\n",
       "    <tr>\n",
       "      <th>25%</th>\n",
       "      <td>1.900000e+01</td>\n",
       "    </tr>\n",
       "    <tr>\n",
       "      <th>50%</th>\n",
       "      <td>3.800000e+01</td>\n",
       "    </tr>\n",
       "    <tr>\n",
       "      <th>75%</th>\n",
       "      <td>8.500000e+01</td>\n",
       "    </tr>\n",
       "    <tr>\n",
       "      <th>max</th>\n",
       "      <td>2.004500e+04</td>\n",
       "    </tr>\n",
       "  </tbody>\n",
       "</table>\n",
       "</div>"
      ],
      "text/plain": [
       "       Retail Price\n",
       "count  2.051754e+06\n",
       "mean   8.385372e+01\n",
       "std    1.486131e+02\n",
       "min   -4.500000e+01\n",
       "25%    1.900000e+01\n",
       "50%    3.800000e+01\n",
       "75%    8.500000e+01\n",
       "max    2.004500e+04"
      ]
     },
     "execution_count": 3,
     "metadata": {},
     "output_type": "execute_result"
    }
   ],
   "source": [
    "sales.describe()"
   ]
  },
  {
   "cell_type": "code",
   "execution_count": 4,
   "id": "3a377478",
   "metadata": {},
   "outputs": [
    {
     "data": {
      "text/plain": [
       "State             30\n",
       "Centre            86\n",
       "Commodity         46\n",
       "Variety           31\n",
       "Unit              11\n",
       "Category           1\n",
       "Date            1053\n",
       "Retail Price    2097\n",
       "dtype: int64"
      ]
     },
     "execution_count": 4,
     "metadata": {},
     "output_type": "execute_result"
    }
   ],
   "source": [
    "# check unique values in dataset\n",
    "sales.apply(lambda x: len(x.unique()))"
   ]
  },
  {
   "cell_type": "code",
   "execution_count": 5,
   "id": "b3d54e46",
   "metadata": {},
   "outputs": [
    {
     "data": {
      "text/plain": [
       "['State', 'Centre', 'Commodity', 'Variety', 'Unit', 'Category', 'Date']"
      ]
     },
     "execution_count": 5,
     "metadata": {},
     "output_type": "execute_result"
    }
   ],
   "source": [
    "# check for categorical columns\n",
    "cat_col = []\n",
    "for x in sales.dtypes.index:\n",
    "    if sales.dtypes[x] == 'object':\n",
    "        cat_col.append(x)\n",
    "cat_col"
   ]
  },
  {
   "cell_type": "markdown",
   "id": "be20ff61",
   "metadata": {},
   "source": [
    "#### Defining the various categories in the 'Category' column"
   ]
  },
  {
   "cell_type": "code",
   "execution_count": 6,
   "id": "deb3874c",
   "metadata": {},
   "outputs": [
    {
     "data": {
      "text/plain": [
       "0    Apple\n",
       "1    Apple\n",
       "2    Apple\n",
       "Name: Commodity, dtype: object"
      ]
     },
     "execution_count": 6,
     "metadata": {},
     "output_type": "execute_result"
    }
   ],
   "source": [
    "comm = sales['Commodity']\n",
    "comm.head(3)"
   ]
  },
  {
   "cell_type": "code",
   "execution_count": 7,
   "id": "cce3f0ac",
   "metadata": {},
   "outputs": [
    {
     "data": {
      "text/plain": [
       "0    Food\n",
       "1    Food\n",
       "2    Food\n",
       "Name: Category, dtype: object"
      ]
     },
     "execution_count": 7,
     "metadata": {},
     "output_type": "execute_result"
    }
   ],
   "source": [
    "cat = sales['Category']\n",
    "cat.head(3)"
   ]
  },
  {
   "cell_type": "code",
   "execution_count": 8,
   "id": "9d721b5d",
   "metadata": {},
   "outputs": [
    {
     "name": "stdout",
     "output_type": "stream",
     "text": [
      "              Dummy\n",
      "0        Apple Food\n",
      "1        Apple Food\n",
      "2        Apple Food\n",
      "3        Apple Food\n",
      "4        Apple Food\n",
      "...             ...\n",
      "5044918   Milk Food\n",
      "5044919   Milk Food\n",
      "5044920   Milk Food\n",
      "5044921   Milk Food\n",
      "5044922   Milk Food\n",
      "\n",
      "[5044923 rows x 1 columns]\n"
     ]
    }
   ],
   "source": [
    "df = pd.DataFrame()\n",
    "df['Commodity'] = comm\n",
    "df['Category'] = cat\n",
    "\n",
    "# Create DataFrame\n",
    "dff = pd.DataFrame()\n",
    "dff['Dummy'] = df['Commodity'] + \" \" +  df['Category'].astype(str)\n",
    "print(dff)"
   ]
  },
  {
   "cell_type": "code",
   "execution_count": 9,
   "id": "1b0a9eb0",
   "metadata": {},
   "outputs": [
    {
     "data": {
      "text/html": [
       "<div>\n",
       "<style scoped>\n",
       "    .dataframe tbody tr th:only-of-type {\n",
       "        vertical-align: middle;\n",
       "    }\n",
       "\n",
       "    .dataframe tbody tr th {\n",
       "        vertical-align: top;\n",
       "    }\n",
       "\n",
       "    .dataframe thead th {\n",
       "        text-align: right;\n",
       "    }\n",
       "</style>\n",
       "<table border=\"1\" class=\"dataframe\">\n",
       "  <thead>\n",
       "    <tr style=\"text-align: right;\">\n",
       "      <th></th>\n",
       "      <th>State</th>\n",
       "      <th>Centre</th>\n",
       "      <th>Commodity</th>\n",
       "      <th>Variety</th>\n",
       "      <th>Unit</th>\n",
       "      <th>Date</th>\n",
       "      <th>Retail Price</th>\n",
       "    </tr>\n",
       "  </thead>\n",
       "  <tbody>\n",
       "    <tr>\n",
       "      <th>0</th>\n",
       "      <td>Andhra Pradesh</td>\n",
       "      <td>Chittoor</td>\n",
       "      <td>Apple</td>\n",
       "      <td>Delicious medium size</td>\n",
       "      <td>Kg.</td>\n",
       "      <td>05/01/2001</td>\n",
       "      <td>NaN</td>\n",
       "    </tr>\n",
       "    <tr>\n",
       "      <th>1</th>\n",
       "      <td>Andhra Pradesh</td>\n",
       "      <td>Guntur</td>\n",
       "      <td>Apple</td>\n",
       "      <td>Delicious medium size</td>\n",
       "      <td>Kg.</td>\n",
       "      <td>05/01/2001</td>\n",
       "      <td>NaN</td>\n",
       "    </tr>\n",
       "    <tr>\n",
       "      <th>2</th>\n",
       "      <td>Andhra Pradesh</td>\n",
       "      <td>Kurnool</td>\n",
       "      <td>Apple</td>\n",
       "      <td>Delicious medium size</td>\n",
       "      <td>Kg.</td>\n",
       "      <td>05/01/2001</td>\n",
       "      <td>NaN</td>\n",
       "    </tr>\n",
       "    <tr>\n",
       "      <th>3</th>\n",
       "      <td>Andhra Pradesh</td>\n",
       "      <td>Vishakhapatnam</td>\n",
       "      <td>Apple</td>\n",
       "      <td>Delicious medium size</td>\n",
       "      <td>Kg.</td>\n",
       "      <td>05/01/2001</td>\n",
       "      <td>NaN</td>\n",
       "    </tr>\n",
       "    <tr>\n",
       "      <th>4</th>\n",
       "      <td>Arunachal Pradesh</td>\n",
       "      <td>Itanagar</td>\n",
       "      <td>Apple</td>\n",
       "      <td>Delicious medium size</td>\n",
       "      <td>Kg.</td>\n",
       "      <td>05/01/2001</td>\n",
       "      <td>NaN</td>\n",
       "    </tr>\n",
       "  </tbody>\n",
       "</table>\n",
       "</div>"
      ],
      "text/plain": [
       "               State          Centre Commodity                Variety Unit  \\\n",
       "0     Andhra Pradesh        Chittoor     Apple  Delicious medium size  Kg.   \n",
       "1     Andhra Pradesh          Guntur     Apple  Delicious medium size  Kg.   \n",
       "2     Andhra Pradesh         Kurnool     Apple  Delicious medium size  Kg.   \n",
       "3     Andhra Pradesh  Vishakhapatnam     Apple  Delicious medium size  Kg.   \n",
       "4  Arunachal Pradesh        Itanagar     Apple  Delicious medium size  Kg.   \n",
       "\n",
       "         Date  Retail Price  \n",
       "0  05/01/2001           NaN  \n",
       "1  05/01/2001           NaN  \n",
       "2  05/01/2001           NaN  \n",
       "3  05/01/2001           NaN  \n",
       "4  05/01/2001           NaN  "
      ]
     },
     "execution_count": 9,
     "metadata": {},
     "output_type": "execute_result"
    }
   ],
   "source": [
    "# Remove the 'Category' column\n",
    "sales.drop(['Category'], axis=1, inplace=True)\n",
    "sales.head(5)"
   ]
  },
  {
   "cell_type": "code",
   "execution_count": 10,
   "id": "d262cf7f",
   "metadata": {},
   "outputs": [
    {
     "name": "stdout",
     "output_type": "stream",
     "text": [
      "           Category\n",
      "0        Apple Food\n",
      "1        Apple Food\n",
      "2        Apple Food\n",
      "3        Apple Food\n",
      "4        Apple Food\n",
      "...             ...\n",
      "5044918   Milk Food\n",
      "5044919   Milk Food\n",
      "5044920   Milk Food\n",
      "5044921   Milk Food\n",
      "5044922   Milk Food\n",
      "\n",
      "[5044923 rows x 1 columns]\n"
     ]
    }
   ],
   "source": [
    "dff.rename(columns = {'Dummy':'Category'}, inplace = True)\n",
    "print(dff)"
   ]
  },
  {
   "cell_type": "code",
   "execution_count": 11,
   "id": "7b0515cf",
   "metadata": {},
   "outputs": [
    {
     "data": {
      "text/html": [
       "<div>\n",
       "<style scoped>\n",
       "    .dataframe tbody tr th:only-of-type {\n",
       "        vertical-align: middle;\n",
       "    }\n",
       "\n",
       "    .dataframe tbody tr th {\n",
       "        vertical-align: top;\n",
       "    }\n",
       "\n",
       "    .dataframe thead th {\n",
       "        text-align: right;\n",
       "    }\n",
       "</style>\n",
       "<table border=\"1\" class=\"dataframe\">\n",
       "  <thead>\n",
       "    <tr style=\"text-align: right;\">\n",
       "      <th></th>\n",
       "      <th>State</th>\n",
       "      <th>Centre</th>\n",
       "      <th>Commodity</th>\n",
       "      <th>Variety</th>\n",
       "      <th>Unit</th>\n",
       "      <th>Date</th>\n",
       "      <th>Retail Price</th>\n",
       "      <th>Category</th>\n",
       "    </tr>\n",
       "  </thead>\n",
       "  <tbody>\n",
       "    <tr>\n",
       "      <th>0</th>\n",
       "      <td>Andhra Pradesh</td>\n",
       "      <td>Chittoor</td>\n",
       "      <td>Apple</td>\n",
       "      <td>Delicious medium size</td>\n",
       "      <td>Kg.</td>\n",
       "      <td>05/01/2001</td>\n",
       "      <td>NaN</td>\n",
       "      <td>Apple Food</td>\n",
       "    </tr>\n",
       "    <tr>\n",
       "      <th>1</th>\n",
       "      <td>Andhra Pradesh</td>\n",
       "      <td>Guntur</td>\n",
       "      <td>Apple</td>\n",
       "      <td>Delicious medium size</td>\n",
       "      <td>Kg.</td>\n",
       "      <td>05/01/2001</td>\n",
       "      <td>NaN</td>\n",
       "      <td>Apple Food</td>\n",
       "    </tr>\n",
       "    <tr>\n",
       "      <th>2</th>\n",
       "      <td>Andhra Pradesh</td>\n",
       "      <td>Kurnool</td>\n",
       "      <td>Apple</td>\n",
       "      <td>Delicious medium size</td>\n",
       "      <td>Kg.</td>\n",
       "      <td>05/01/2001</td>\n",
       "      <td>NaN</td>\n",
       "      <td>Apple Food</td>\n",
       "    </tr>\n",
       "    <tr>\n",
       "      <th>3</th>\n",
       "      <td>Andhra Pradesh</td>\n",
       "      <td>Vishakhapatnam</td>\n",
       "      <td>Apple</td>\n",
       "      <td>Delicious medium size</td>\n",
       "      <td>Kg.</td>\n",
       "      <td>05/01/2001</td>\n",
       "      <td>NaN</td>\n",
       "      <td>Apple Food</td>\n",
       "    </tr>\n",
       "    <tr>\n",
       "      <th>4</th>\n",
       "      <td>Arunachal Pradesh</td>\n",
       "      <td>Itanagar</td>\n",
       "      <td>Apple</td>\n",
       "      <td>Delicious medium size</td>\n",
       "      <td>Kg.</td>\n",
       "      <td>05/01/2001</td>\n",
       "      <td>NaN</td>\n",
       "      <td>Apple Food</td>\n",
       "    </tr>\n",
       "  </tbody>\n",
       "</table>\n",
       "</div>"
      ],
      "text/plain": [
       "               State          Centre Commodity                Variety Unit  \\\n",
       "0     Andhra Pradesh        Chittoor     Apple  Delicious medium size  Kg.   \n",
       "1     Andhra Pradesh          Guntur     Apple  Delicious medium size  Kg.   \n",
       "2     Andhra Pradesh         Kurnool     Apple  Delicious medium size  Kg.   \n",
       "3     Andhra Pradesh  Vishakhapatnam     Apple  Delicious medium size  Kg.   \n",
       "4  Arunachal Pradesh        Itanagar     Apple  Delicious medium size  Kg.   \n",
       "\n",
       "         Date  Retail Price    Category  \n",
       "0  05/01/2001           NaN  Apple Food  \n",
       "1  05/01/2001           NaN  Apple Food  \n",
       "2  05/01/2001           NaN  Apple Food  \n",
       "3  05/01/2001           NaN  Apple Food  \n",
       "4  05/01/2001           NaN  Apple Food  "
      ]
     },
     "execution_count": 11,
     "metadata": {},
     "output_type": "execute_result"
    }
   ],
   "source": [
    "sales = pd.concat([sales, dff], axis=1)\n",
    "sales.head(5)"
   ]
  },
  {
   "cell_type": "code",
   "execution_count": 12,
   "id": "c0e0e789",
   "metadata": {},
   "outputs": [],
   "source": [
    "# After extracting and joining the 2 columns, we need to define the category\n",
    "def category(x):\n",
    "    if x == 'Apple Food' or x == 'Banana Food' or x == 'Coconut Food':\n",
    "        return 'Fruits'\n",
    "    elif x == 'Fish Food' or x == 'Meat Food' or x == 'Chicken Food' or x == 'Eggs Food':\n",
    "        return 'Non-veg products'\n",
    "    elif x == 'Milk Food' or x == 'Butter Food' or x == 'Ghee Food':\n",
    "        return 'Milk products'\n",
    "    elif x == 'Potato Food' or x == 'Onion Food' or x == 'Brinjal Food' or x == 'Red Chillies Food' or x == 'Coriander Food' or x == 'Tomato Food':\n",
    "        return 'Vegetables'\n",
    "    elif x == 'Mustard Oil Food' or x == 'Groundnut Oil Food' or x == 'Coconut Oil Food' or x == 'Gingelly Oil Food' or x == 'Vanaspati Food':\n",
    "        return 'Oil'\n",
    "    elif x == 'Salt Food' or x == 'Sugar Food' or x == 'Gur Food' or x == 'Black Pepper Food' or x == 'Turmeric Food' or x == 'Cummin Seed Food':\n",
    "        return 'Spices'\n",
    "    elif x == 'Coffee Food' or x == 'Tea Food':\n",
    "        return 'Beverages'\n",
    "    elif x == 'Moong Food' or x == 'Urad Food' or x == 'Masur Food' or x == 'Arhar Food' or x == 'Gram Food':\n",
    "        return 'Dal'\n",
    "    elif x == 'Jowar Food' or x == 'Maida Food' or x == 'Atta Food' or x == 'Wheat Food' or x == 'Bajra Food' or x == 'Ragi Food' or x == 'Maize Food' or x == 'Besan Food':\n",
    "        return 'Flour'\n",
    "    else:\n",
    "        return 'Grocery'\n",
    "\n",
    "sales['Category'] = sales['Category'].apply(lambda x: category(x))"
   ]
  },
  {
   "cell_type": "code",
   "execution_count": 13,
   "id": "e67f9452",
   "metadata": {},
   "outputs": [
    {
     "name": "stdout",
     "output_type": "stream",
     "text": [
      "(5044923, 8)\n"
     ]
    },
    {
     "data": {
      "text/html": [
       "<div>\n",
       "<style scoped>\n",
       "    .dataframe tbody tr th:only-of-type {\n",
       "        vertical-align: middle;\n",
       "    }\n",
       "\n",
       "    .dataframe tbody tr th {\n",
       "        vertical-align: top;\n",
       "    }\n",
       "\n",
       "    .dataframe thead th {\n",
       "        text-align: right;\n",
       "    }\n",
       "</style>\n",
       "<table border=\"1\" class=\"dataframe\">\n",
       "  <thead>\n",
       "    <tr style=\"text-align: right;\">\n",
       "      <th></th>\n",
       "      <th>State</th>\n",
       "      <th>Centre</th>\n",
       "      <th>Category</th>\n",
       "      <th>Commodity</th>\n",
       "      <th>Variety</th>\n",
       "      <th>Unit</th>\n",
       "      <th>Date</th>\n",
       "      <th>Retail Price</th>\n",
       "    </tr>\n",
       "  </thead>\n",
       "  <tbody>\n",
       "    <tr>\n",
       "      <th>0</th>\n",
       "      <td>Andhra Pradesh</td>\n",
       "      <td>Chittoor</td>\n",
       "      <td>Fruits</td>\n",
       "      <td>Apple</td>\n",
       "      <td>Delicious medium size</td>\n",
       "      <td>Kg.</td>\n",
       "      <td>05/01/2001</td>\n",
       "      <td>NaN</td>\n",
       "    </tr>\n",
       "    <tr>\n",
       "      <th>1</th>\n",
       "      <td>Andhra Pradesh</td>\n",
       "      <td>Guntur</td>\n",
       "      <td>Fruits</td>\n",
       "      <td>Apple</td>\n",
       "      <td>Delicious medium size</td>\n",
       "      <td>Kg.</td>\n",
       "      <td>05/01/2001</td>\n",
       "      <td>NaN</td>\n",
       "    </tr>\n",
       "    <tr>\n",
       "      <th>2</th>\n",
       "      <td>Andhra Pradesh</td>\n",
       "      <td>Kurnool</td>\n",
       "      <td>Fruits</td>\n",
       "      <td>Apple</td>\n",
       "      <td>Delicious medium size</td>\n",
       "      <td>Kg.</td>\n",
       "      <td>05/01/2001</td>\n",
       "      <td>NaN</td>\n",
       "    </tr>\n",
       "    <tr>\n",
       "      <th>3</th>\n",
       "      <td>Andhra Pradesh</td>\n",
       "      <td>Vishakhapatnam</td>\n",
       "      <td>Fruits</td>\n",
       "      <td>Apple</td>\n",
       "      <td>Delicious medium size</td>\n",
       "      <td>Kg.</td>\n",
       "      <td>05/01/2001</td>\n",
       "      <td>NaN</td>\n",
       "    </tr>\n",
       "    <tr>\n",
       "      <th>4</th>\n",
       "      <td>Arunachal Pradesh</td>\n",
       "      <td>Itanagar</td>\n",
       "      <td>Fruits</td>\n",
       "      <td>Apple</td>\n",
       "      <td>Delicious medium size</td>\n",
       "      <td>Kg.</td>\n",
       "      <td>05/01/2001</td>\n",
       "      <td>NaN</td>\n",
       "    </tr>\n",
       "  </tbody>\n",
       "</table>\n",
       "</div>"
      ],
      "text/plain": [
       "               State          Centre Category Commodity  \\\n",
       "0     Andhra Pradesh        Chittoor   Fruits     Apple   \n",
       "1     Andhra Pradesh          Guntur   Fruits     Apple   \n",
       "2     Andhra Pradesh         Kurnool   Fruits     Apple   \n",
       "3     Andhra Pradesh  Vishakhapatnam   Fruits     Apple   \n",
       "4  Arunachal Pradesh        Itanagar   Fruits     Apple   \n",
       "\n",
       "                 Variety Unit        Date  Retail Price  \n",
       "0  Delicious medium size  Kg.  05/01/2001           NaN  \n",
       "1  Delicious medium size  Kg.  05/01/2001           NaN  \n",
       "2  Delicious medium size  Kg.  05/01/2001           NaN  \n",
       "3  Delicious medium size  Kg.  05/01/2001           NaN  \n",
       "4  Delicious medium size  Kg.  05/01/2001           NaN  "
      ]
     },
     "execution_count": 13,
     "metadata": {},
     "output_type": "execute_result"
    }
   ],
   "source": [
    "# Re-ordering the columns\n",
    "sales = sales.reindex(columns=['State', 'Centre', 'Category', 'Commodity', 'Variety', 'Unit', 'Date', 'Retail Price'])\n",
    "print(sales.shape)\n",
    "sales.head(5)"
   ]
  },
  {
   "cell_type": "code",
   "execution_count": 14,
   "id": "fe8d9fdf",
   "metadata": {},
   "outputs": [
    {
     "data": {
      "image/png": "[encoded data removed]",
      "text/plain": [
       "<Figure size 1080x504 with 1 Axes>"
      ]
     },
     "metadata": {
      "needs_background": "light"
     },
     "output_type": "display_data"
    }
   ],
   "source": [
    "# Visualize the retail prices of the categories\n",
    "plt.figure(figsize=(15,7))\n",
    "sns.barplot(x=sales['Category'], y=sales['Retail Price'])\n",
    "plt.xticks(rotation=\"vertical\")\n",
    "plt.show()"
   ]
  },
  {
   "cell_type": "code",
   "execution_count": 15,
   "id": "3629e111",
   "metadata": {},
   "outputs": [
    {
     "data": {
      "image/png": "[encoded data removed]",
      "text/plain": [
       "<Figure size 1440x504 with 1 Axes>"
      ]
     },
     "metadata": {
      "needs_background": "light"
     },
     "output_type": "display_data"
    }
   ],
   "source": [
    "# Visualize the retail prices of the various commodities\n",
    "plt.figure(figsize=(20,7))\n",
    "sns.barplot(x=sales['Commodity'], y=sales['Retail Price'])\n",
    "plt.xticks(rotation=\"vertical\")\n",
    "plt.show()"
   ]
  },
  {
   "cell_type": "markdown",
   "id": "c5ae790b",
   "metadata": {},
   "source": [
    "#### Get the average price of categories per state"
   ]
  },
  {
   "cell_type": "code",
   "execution_count": 16,
   "id": "61f313c0",
   "metadata": {},
   "outputs": [],
   "source": [
    "states = ['Andhra Pradesh', 'Arunachal Pradesh', 'Assam', 'Bihar', 'Goa', 'Gujarat', 'Haryana', 'Himachal Pradesh', 'Jammu Kashmir', 'Jharkhand', 'Karnataka', 'Kerala', 'Madhya Pradesh', 'Maharashtra', 'Manipur', 'Meghalaya', 'Mizoram', 'Nagaland',  'National Capital', 'Orissa', 'Punjab', 'Rajasthan', 'Sikkim',  'Tamil Nadu', 'Telangana', 'Tripura', 'Union Territories',  'Uttar Pradesh', 'Uttarakhand', 'West Bengal']\n",
    "categories = ['Fruits', 'Dal', 'Flour', 'Grocery', 'Vegetables', 'Spices', 'Fish', 'Milk products', 'Oil', 'Beverages', 'Meat']\n",
    "\n",
    "def mean_retail_categories(state, category):\n",
    "    x = (sales['State'] == state)\n",
    "    y = (sales['Category'] == category)\n",
    "    \n",
    "    s1 = sales[x & y & (sales['Retail Price'] > 0)]\n",
    "    \n",
    "    for state in states:\n",
    "        for category in categories:\n",
    "            return s1['Retail Price'].mean()"
   ]
  },
  {
   "cell_type": "code",
   "execution_count": 17,
   "id": "c9b7b020",
   "metadata": {},
   "outputs": [
    {
     "data": {
      "text/plain": [
       "81.35905788023052"
      ]
     },
     "execution_count": 17,
     "metadata": {},
     "output_type": "execute_result"
    }
   ],
   "source": [
    "# Calling the func with custom values\n",
    "mean_retail_categories(\"Bihar\", \"Fruits\")"
   ]
  },
  {
   "cell_type": "code",
   "execution_count": 18,
   "id": "37a1fabb",
   "metadata": {},
   "outputs": [
    {
     "data": {
      "text/plain": [
       "62.85070214338507"
      ]
     },
     "execution_count": 18,
     "metadata": {},
     "output_type": "execute_result"
    }
   ],
   "source": [
    "mean_retail_categories(\"Assam\", \"Fruits\")"
   ]
  },
  {
   "cell_type": "markdown",
   "id": "c7d641ce",
   "metadata": {},
   "source": [
    "#### Get the average price of commodities per state"
   ]
  },
  {
   "cell_type": "code",
   "execution_count": 19,
   "id": "a3725486",
   "metadata": {},
   "outputs": [],
   "source": [
    "commodities = ['Apple', 'Arhar', 'Atta', 'Bajra', 'Banana', 'Besan', 'Biscuit', 'Tomato', 'Turmeric', 'Urad', 'Vanaspati', 'Wheat', 'Coriander', 'Cummin Seed', 'Eggs', 'Fish', 'Ghee', 'Gingelly Oil', 'Gram', 'Moong', 'Mustard Oil', 'Onion', 'Potato', 'Ragi', 'Red Chillies', 'Rice', 'Salt', 'Sugar', 'Suji', 'Tea', 'Black Pepper', 'Bread', 'Brinjal', 'Butter', 'Chicken', 'Coconut', 'Coconut Oil', 'Coffee', 'Groundnut Oil', 'Gur', 'Jowar', 'Maida', 'Maize', 'Masur', 'Meat', 'Milk']\n",
    "states = ['Andhra Pradesh', 'Arunachal Pradesh', 'Assam', 'Bihar', 'Goa', 'Gujarat', 'Haryana', 'Himachal Pradesh', 'Jammu Kashmir', 'Jharkhand', 'Karnataka', 'Kerala', 'Madhya Pradesh', 'Maharashtra', 'Manipur', 'Meghalaya', 'Mizoram', 'Nagaland',  'National Capital', 'Orissa', 'Punjab', 'Rajasthan', 'Sikkim',  'Tamil Nadu', 'Telangana', 'Tripura', 'Union Territories',  'Uttar Pradesh', 'Uttarakhand', 'West Bengal']\n",
    "\n",
    "def mean_retail_products(state, commodity):\n",
    "    x = (sales['State'] == state)\n",
    "    y = (sales['Commodity'] == commodity)\n",
    "    \n",
    "    s2 = sales[x & y & (sales['Retail Price'] > 0)]\n",
    "    \n",
    "    for state in states:\n",
    "        for commodity in commodities:\n",
    "            return s2['Retail Price'].mean()"
   ]
  },
  {
   "cell_type": "code",
   "execution_count": 20,
   "id": "dc7e4177",
   "metadata": {},
   "outputs": [
    {
     "data": {
      "text/plain": [
       "82.38476755687438"
      ]
     },
     "execution_count": 20,
     "metadata": {},
     "output_type": "execute_result"
    }
   ],
   "source": [
    "# Calling the func with custom values\n",
    "mean_retail_products(\"Bihar\", \"Apple\")"
   ]
  },
  {
   "cell_type": "code",
   "execution_count": 21,
   "id": "a350b022",
   "metadata": {},
   "outputs": [
    {
     "data": {
      "text/plain": [
       "114.86101694915254"
      ]
     },
     "execution_count": 21,
     "metadata": {},
     "output_type": "execute_result"
    }
   ],
   "source": [
    "mean_retail_products(\"Assam\", \"Apple\")"
   ]
  },
  {
   "cell_type": "markdown",
   "id": "81a30b40",
   "metadata": {},
   "source": [
    "### Data Processing"
   ]
  },
  {
   "cell_type": "code",
   "execution_count": 22,
   "id": "7816e960",
   "metadata": {},
   "outputs": [
    {
     "data": {
      "text/plain": [
       "State                 0\n",
       "Centre                0\n",
       "Category              0\n",
       "Commodity             0\n",
       "Variety          890838\n",
       "Unit                  0\n",
       "Date                  0\n",
       "Retail Price    2993169\n",
       "dtype: int64"
      ]
     },
     "execution_count": 22,
     "metadata": {},
     "output_type": "execute_result"
    }
   ],
   "source": [
    "# Let's check for null values\n",
    "sales.isnull().sum()"
   ]
  },
  {
   "cell_type": "code",
   "execution_count": 23,
   "id": "4cb0733d",
   "metadata": {},
   "outputs": [
    {
     "data": {
      "text/plain": [
       "array(['Delicious medium size', 'Split', 'FAQ', nan, 'Glucose',\n",
       "       'Powdered Agmark', 'Desi', 'Kalyan HYV', 'Common', 'Cat Fish',\n",
       "       'Pomphret', 'Rohu 1Kg Size', 'Whole', 'Common/Coarse', 'Fine',\n",
       "       'Superfine', 'Loose(common)', 'Packet(iodized)',\n",
       "       'Brooke Bond Red Label', 'Ctc(loose)', 'Local', 'Amul/Any Other',\n",
       "       'Poultry', 'Dry', 'Fresh', 'Instant', 'Powdered', 'White',\n",
       "       'Mutton', 'Cow/Buffalo', 'Dairy'], dtype=object)"
      ]
     },
     "execution_count": 23,
     "metadata": {},
     "output_type": "execute_result"
    }
   ],
   "source": [
    "sales['Variety'].unique()"
   ]
  },
  {
   "cell_type": "code",
   "execution_count": 24,
   "id": "8664d141",
   "metadata": {},
   "outputs": [],
   "source": [
    "# There are 890838 missing values in 'Variety', so fill it\n",
    "sales[\"Variety\"].fillna(\"FAQ\", inplace = True)"
   ]
  },
  {
   "cell_type": "code",
   "execution_count": 25,
   "id": "d75eacff",
   "metadata": {},
   "outputs": [
    {
     "data": {
      "text/html": [
       "<div>\n",
       "<style scoped>\n",
       "    .dataframe tbody tr th:only-of-type {\n",
       "        vertical-align: middle;\n",
       "    }\n",
       "\n",
       "    .dataframe tbody tr th {\n",
       "        vertical-align: top;\n",
       "    }\n",
       "\n",
       "    .dataframe thead th {\n",
       "        text-align: right;\n",
       "    }\n",
       "</style>\n",
       "<table border=\"1\" class=\"dataframe\">\n",
       "  <thead>\n",
       "    <tr style=\"text-align: right;\">\n",
       "      <th></th>\n",
       "      <th>State</th>\n",
       "      <th>Centre</th>\n",
       "      <th>Category</th>\n",
       "      <th>Commodity</th>\n",
       "      <th>Variety</th>\n",
       "      <th>Unit</th>\n",
       "      <th>Date</th>\n",
       "      <th>Retail Price</th>\n",
       "    </tr>\n",
       "  </thead>\n",
       "  <tbody>\n",
       "    <tr>\n",
       "      <th>0</th>\n",
       "      <td>Andhra Pradesh</td>\n",
       "      <td>Chittoor</td>\n",
       "      <td>Fruits</td>\n",
       "      <td>Apple</td>\n",
       "      <td>Delicious medium size</td>\n",
       "      <td>Kg.</td>\n",
       "      <td>05/01/2001</td>\n",
       "      <td>NaN</td>\n",
       "    </tr>\n",
       "    <tr>\n",
       "      <th>1</th>\n",
       "      <td>Andhra Pradesh</td>\n",
       "      <td>Guntur</td>\n",
       "      <td>Fruits</td>\n",
       "      <td>Apple</td>\n",
       "      <td>Delicious medium size</td>\n",
       "      <td>Kg.</td>\n",
       "      <td>05/01/2001</td>\n",
       "      <td>NaN</td>\n",
       "    </tr>\n",
       "    <tr>\n",
       "      <th>2</th>\n",
       "      <td>Andhra Pradesh</td>\n",
       "      <td>Kurnool</td>\n",
       "      <td>Fruits</td>\n",
       "      <td>Apple</td>\n",
       "      <td>Delicious medium size</td>\n",
       "      <td>Kg.</td>\n",
       "      <td>05/01/2001</td>\n",
       "      <td>NaN</td>\n",
       "    </tr>\n",
       "    <tr>\n",
       "      <th>3</th>\n",
       "      <td>Andhra Pradesh</td>\n",
       "      <td>Vishakhapatnam</td>\n",
       "      <td>Fruits</td>\n",
       "      <td>Apple</td>\n",
       "      <td>Delicious medium size</td>\n",
       "      <td>Kg.</td>\n",
       "      <td>05/01/2001</td>\n",
       "      <td>NaN</td>\n",
       "    </tr>\n",
       "    <tr>\n",
       "      <th>4</th>\n",
       "      <td>Arunachal Pradesh</td>\n",
       "      <td>Itanagar</td>\n",
       "      <td>Fruits</td>\n",
       "      <td>Apple</td>\n",
       "      <td>Delicious medium size</td>\n",
       "      <td>Kg.</td>\n",
       "      <td>05/01/2001</td>\n",
       "      <td>NaN</td>\n",
       "    </tr>\n",
       "    <tr>\n",
       "      <th>5</th>\n",
       "      <td>Assam</td>\n",
       "      <td>Dibrugarh</td>\n",
       "      <td>Fruits</td>\n",
       "      <td>Apple</td>\n",
       "      <td>Delicious medium size</td>\n",
       "      <td>Kg.</td>\n",
       "      <td>05/01/2001</td>\n",
       "      <td>NaN</td>\n",
       "    </tr>\n",
       "    <tr>\n",
       "      <th>6</th>\n",
       "      <td>Assam</td>\n",
       "      <td>Dispur</td>\n",
       "      <td>Fruits</td>\n",
       "      <td>Apple</td>\n",
       "      <td>Delicious medium size</td>\n",
       "      <td>Kg.</td>\n",
       "      <td>05/01/2001</td>\n",
       "      <td>NaN</td>\n",
       "    </tr>\n",
       "    <tr>\n",
       "      <th>7</th>\n",
       "      <td>Assam</td>\n",
       "      <td>Guwahati</td>\n",
       "      <td>Fruits</td>\n",
       "      <td>Apple</td>\n",
       "      <td>Delicious medium size</td>\n",
       "      <td>Kg.</td>\n",
       "      <td>05/01/2001</td>\n",
       "      <td>NaN</td>\n",
       "    </tr>\n",
       "    <tr>\n",
       "      <th>8</th>\n",
       "      <td>Assam</td>\n",
       "      <td>Silchar</td>\n",
       "      <td>Fruits</td>\n",
       "      <td>Apple</td>\n",
       "      <td>Delicious medium size</td>\n",
       "      <td>Kg.</td>\n",
       "      <td>05/01/2001</td>\n",
       "      <td>NaN</td>\n",
       "    </tr>\n",
       "    <tr>\n",
       "      <th>9</th>\n",
       "      <td>Bihar</td>\n",
       "      <td>Gaya</td>\n",
       "      <td>Fruits</td>\n",
       "      <td>Apple</td>\n",
       "      <td>Delicious medium size</td>\n",
       "      <td>Kg.</td>\n",
       "      <td>05/01/2001</td>\n",
       "      <td>NaN</td>\n",
       "    </tr>\n",
       "  </tbody>\n",
       "</table>\n",
       "</div>"
      ],
      "text/plain": [
       "               State          Centre Category Commodity  \\\n",
       "0     Andhra Pradesh        Chittoor   Fruits     Apple   \n",
       "1     Andhra Pradesh          Guntur   Fruits     Apple   \n",
       "2     Andhra Pradesh         Kurnool   Fruits     Apple   \n",
       "3     Andhra Pradesh  Vishakhapatnam   Fruits     Apple   \n",
       "4  Arunachal Pradesh        Itanagar   Fruits     Apple   \n",
       "5              Assam       Dibrugarh   Fruits     Apple   \n",
       "6              Assam          Dispur   Fruits     Apple   \n",
       "7              Assam        Guwahati   Fruits     Apple   \n",
       "8              Assam         Silchar   Fruits     Apple   \n",
       "9              Bihar            Gaya   Fruits     Apple   \n",
       "\n",
       "                 Variety Unit        Date  Retail Price  \n",
       "0  Delicious medium size  Kg.  05/01/2001           NaN  \n",
       "1  Delicious medium size  Kg.  05/01/2001           NaN  \n",
       "2  Delicious medium size  Kg.  05/01/2001           NaN  \n",
       "3  Delicious medium size  Kg.  05/01/2001           NaN  \n",
       "4  Delicious medium size  Kg.  05/01/2001           NaN  \n",
       "5  Delicious medium size  Kg.  05/01/2001           NaN  \n",
       "6  Delicious medium size  Kg.  05/01/2001           NaN  \n",
       "7  Delicious medium size  Kg.  05/01/2001           NaN  \n",
       "8  Delicious medium size  Kg.  05/01/2001           NaN  \n",
       "9  Delicious medium size  Kg.  05/01/2001           NaN  "
      ]
     },
     "execution_count": 25,
     "metadata": {},
     "output_type": "execute_result"
    }
   ],
   "source": [
    "sales.head(10)"
   ]
  },
  {
   "cell_type": "code",
   "execution_count": 26,
   "id": "a397b4cb",
   "metadata": {},
   "outputs": [],
   "source": [
    "# There are 2993169 missing values in 'Retail Price', so fill it\n",
    "sales['Retail Price'] = sales['Retail Price'].fillna(sales['Retail Price'].median())"
   ]
  },
  {
   "cell_type": "code",
   "execution_count": 27,
   "id": "ab71e934",
   "metadata": {},
   "outputs": [
    {
     "data": {
      "text/html": [
       "<div>\n",
       "<style scoped>\n",
       "    .dataframe tbody tr th:only-of-type {\n",
       "        vertical-align: middle;\n",
       "    }\n",
       "\n",
       "    .dataframe tbody tr th {\n",
       "        vertical-align: top;\n",
       "    }\n",
       "\n",
       "    .dataframe thead th {\n",
       "        text-align: right;\n",
       "    }\n",
       "</style>\n",
       "<table border=\"1\" class=\"dataframe\">\n",
       "  <thead>\n",
       "    <tr style=\"text-align: right;\">\n",
       "      <th></th>\n",
       "      <th>State</th>\n",
       "      <th>Centre</th>\n",
       "      <th>Category</th>\n",
       "      <th>Commodity</th>\n",
       "      <th>Variety</th>\n",
       "      <th>Unit</th>\n",
       "      <th>Date</th>\n",
       "      <th>Retail Price</th>\n",
       "    </tr>\n",
       "  </thead>\n",
       "  <tbody>\n",
       "    <tr>\n",
       "      <th>0</th>\n",
       "      <td>Andhra Pradesh</td>\n",
       "      <td>Chittoor</td>\n",
       "      <td>Fruits</td>\n",
       "      <td>Apple</td>\n",
       "      <td>Delicious medium size</td>\n",
       "      <td>Kg.</td>\n",
       "      <td>05/01/2001</td>\n",
       "      <td>38.0</td>\n",
       "    </tr>\n",
       "    <tr>\n",
       "      <th>1</th>\n",
       "      <td>Andhra Pradesh</td>\n",
       "      <td>Guntur</td>\n",
       "      <td>Fruits</td>\n",
       "      <td>Apple</td>\n",
       "      <td>Delicious medium size</td>\n",
       "      <td>Kg.</td>\n",
       "      <td>05/01/2001</td>\n",
       "      <td>38.0</td>\n",
       "    </tr>\n",
       "    <tr>\n",
       "      <th>2</th>\n",
       "      <td>Andhra Pradesh</td>\n",
       "      <td>Kurnool</td>\n",
       "      <td>Fruits</td>\n",
       "      <td>Apple</td>\n",
       "      <td>Delicious medium size</td>\n",
       "      <td>Kg.</td>\n",
       "      <td>05/01/2001</td>\n",
       "      <td>38.0</td>\n",
       "    </tr>\n",
       "    <tr>\n",
       "      <th>3</th>\n",
       "      <td>Andhra Pradesh</td>\n",
       "      <td>Vishakhapatnam</td>\n",
       "      <td>Fruits</td>\n",
       "      <td>Apple</td>\n",
       "      <td>Delicious medium size</td>\n",
       "      <td>Kg.</td>\n",
       "      <td>05/01/2001</td>\n",
       "      <td>38.0</td>\n",
       "    </tr>\n",
       "    <tr>\n",
       "      <th>4</th>\n",
       "      <td>Arunachal Pradesh</td>\n",
       "      <td>Itanagar</td>\n",
       "      <td>Fruits</td>\n",
       "      <td>Apple</td>\n",
       "      <td>Delicious medium size</td>\n",
       "      <td>Kg.</td>\n",
       "      <td>05/01/2001</td>\n",
       "      <td>38.0</td>\n",
       "    </tr>\n",
       "    <tr>\n",
       "      <th>5</th>\n",
       "      <td>Assam</td>\n",
       "      <td>Dibrugarh</td>\n",
       "      <td>Fruits</td>\n",
       "      <td>Apple</td>\n",
       "      <td>Delicious medium size</td>\n",
       "      <td>Kg.</td>\n",
       "      <td>05/01/2001</td>\n",
       "      <td>38.0</td>\n",
       "    </tr>\n",
       "    <tr>\n",
       "      <th>6</th>\n",
       "      <td>Assam</td>\n",
       "      <td>Dispur</td>\n",
       "      <td>Fruits</td>\n",
       "      <td>Apple</td>\n",
       "      <td>Delicious medium size</td>\n",
       "      <td>Kg.</td>\n",
       "      <td>05/01/2001</td>\n",
       "      <td>38.0</td>\n",
       "    </tr>\n",
       "    <tr>\n",
       "      <th>7</th>\n",
       "      <td>Assam</td>\n",
       "      <td>Guwahati</td>\n",
       "      <td>Fruits</td>\n",
       "      <td>Apple</td>\n",
       "      <td>Delicious medium size</td>\n",
       "      <td>Kg.</td>\n",
       "      <td>05/01/2001</td>\n",
       "      <td>38.0</td>\n",
       "    </tr>\n",
       "    <tr>\n",
       "      <th>8</th>\n",
       "      <td>Assam</td>\n",
       "      <td>Silchar</td>\n",
       "      <td>Fruits</td>\n",
       "      <td>Apple</td>\n",
       "      <td>Delicious medium size</td>\n",
       "      <td>Kg.</td>\n",
       "      <td>05/01/2001</td>\n",
       "      <td>38.0</td>\n",
       "    </tr>\n",
       "    <tr>\n",
       "      <th>9</th>\n",
       "      <td>Bihar</td>\n",
       "      <td>Gaya</td>\n",
       "      <td>Fruits</td>\n",
       "      <td>Apple</td>\n",
       "      <td>Delicious medium size</td>\n",
       "      <td>Kg.</td>\n",
       "      <td>05/01/2001</td>\n",
       "      <td>38.0</td>\n",
       "    </tr>\n",
       "  </tbody>\n",
       "</table>\n",
       "</div>"
      ],
      "text/plain": [
       "               State          Centre Category Commodity  \\\n",
       "0     Andhra Pradesh        Chittoor   Fruits     Apple   \n",
       "1     Andhra Pradesh          Guntur   Fruits     Apple   \n",
       "2     Andhra Pradesh         Kurnool   Fruits     Apple   \n",
       "3     Andhra Pradesh  Vishakhapatnam   Fruits     Apple   \n",
       "4  Arunachal Pradesh        Itanagar   Fruits     Apple   \n",
       "5              Assam       Dibrugarh   Fruits     Apple   \n",
       "6              Assam          Dispur   Fruits     Apple   \n",
       "7              Assam        Guwahati   Fruits     Apple   \n",
       "8              Assam         Silchar   Fruits     Apple   \n",
       "9              Bihar            Gaya   Fruits     Apple   \n",
       "\n",
       "                 Variety Unit        Date  Retail Price  \n",
       "0  Delicious medium size  Kg.  05/01/2001          38.0  \n",
       "1  Delicious medium size  Kg.  05/01/2001          38.0  \n",
       "2  Delicious medium size  Kg.  05/01/2001          38.0  \n",
       "3  Delicious medium size  Kg.  05/01/2001          38.0  \n",
       "4  Delicious medium size  Kg.  05/01/2001          38.0  \n",
       "5  Delicious medium size  Kg.  05/01/2001          38.0  \n",
       "6  Delicious medium size  Kg.  05/01/2001          38.0  \n",
       "7  Delicious medium size  Kg.  05/01/2001          38.0  \n",
       "8  Delicious medium size  Kg.  05/01/2001          38.0  \n",
       "9  Delicious medium size  Kg.  05/01/2001          38.0  "
      ]
     },
     "execution_count": 27,
     "metadata": {},
     "output_type": "execute_result"
    }
   ],
   "source": [
    "sales.head(10)"
   ]
  },
  {
   "cell_type": "code",
   "execution_count": 28,
   "id": "a195a5c8",
   "metadata": {},
   "outputs": [
    {
     "data": {
      "text/plain": [
       "array([  38. ,   24. ,   19. , ..., 1133. ,   91.5,  746. ])"
      ]
     },
     "execution_count": 28,
     "metadata": {},
     "output_type": "execute_result"
    }
   ],
   "source": [
    "sales['Retail Price'].unique()"
   ]
  },
  {
   "cell_type": "code",
   "execution_count": 29,
   "id": "e0641d85",
   "metadata": {},
   "outputs": [
    {
     "data": {
      "text/plain": [
       "array(['Kg.', 'Dozen', '80gm. Pkt', '100gm. Pkt', 'Kg/Litre', 'Kg',\n",
       "       '250gm. Pkt', '400/800 Gm', 'Peice', '500gm. Pkt', 'Litre'],\n",
       "      dtype=object)"
      ]
     },
     "execution_count": 29,
     "metadata": {},
     "output_type": "execute_result"
    }
   ],
   "source": [
    "# Dealing with the 'Unit' column\n",
    "sales['Unit'].unique()"
   ]
  },
  {
   "cell_type": "code",
   "execution_count": 30,
   "id": "f68c91d0",
   "metadata": {},
   "outputs": [],
   "source": [
    "sales['Unit'].replace(['Kg.', 'Dozen', '80gm. Pkt', '100gm. Pkt', 'Kg/Litre', 'Kg', '250gm. Pkt','400/800 Gm', 'Peice', '500gm. Pkt', 'Litre'], \n",
    "                      ['1 Kg', '1 Dozen', '80gm Packet', '100gm Packet', '1 Kg/Litre', '1 Kg', '250gm Packet', '800 Gm', '1 Piece', '500gm Packet', '1 Litre'], inplace=True)"
   ]
  },
  {
   "cell_type": "code",
   "execution_count": 31,
   "id": "49ae306d",
   "metadata": {},
   "outputs": [
    {
     "data": {
      "text/html": [
       "<div>\n",
       "<style scoped>\n",
       "    .dataframe tbody tr th:only-of-type {\n",
       "        vertical-align: middle;\n",
       "    }\n",
       "\n",
       "    .dataframe tbody tr th {\n",
       "        vertical-align: top;\n",
       "    }\n",
       "\n",
       "    .dataframe thead th {\n",
       "        text-align: right;\n",
       "    }\n",
       "</style>\n",
       "<table border=\"1\" class=\"dataframe\">\n",
       "  <thead>\n",
       "    <tr style=\"text-align: right;\">\n",
       "      <th></th>\n",
       "      <th>State</th>\n",
       "      <th>Centre</th>\n",
       "      <th>Category</th>\n",
       "      <th>Commodity</th>\n",
       "      <th>Variety</th>\n",
       "      <th>Unit</th>\n",
       "      <th>Date</th>\n",
       "      <th>Retail Price</th>\n",
       "    </tr>\n",
       "  </thead>\n",
       "  <tbody>\n",
       "    <tr>\n",
       "      <th>0</th>\n",
       "      <td>Andhra Pradesh</td>\n",
       "      <td>Chittoor</td>\n",
       "      <td>Fruits</td>\n",
       "      <td>Apple</td>\n",
       "      <td>Delicious medium size</td>\n",
       "      <td>1 Kg</td>\n",
       "      <td>05/01/2001</td>\n",
       "      <td>38.0</td>\n",
       "    </tr>\n",
       "    <tr>\n",
       "      <th>1</th>\n",
       "      <td>Andhra Pradesh</td>\n",
       "      <td>Guntur</td>\n",
       "      <td>Fruits</td>\n",
       "      <td>Apple</td>\n",
       "      <td>Delicious medium size</td>\n",
       "      <td>1 Kg</td>\n",
       "      <td>05/01/2001</td>\n",
       "      <td>38.0</td>\n",
       "    </tr>\n",
       "    <tr>\n",
       "      <th>2</th>\n",
       "      <td>Andhra Pradesh</td>\n",
       "      <td>Kurnool</td>\n",
       "      <td>Fruits</td>\n",
       "      <td>Apple</td>\n",
       "      <td>Delicious medium size</td>\n",
       "      <td>1 Kg</td>\n",
       "      <td>05/01/2001</td>\n",
       "      <td>38.0</td>\n",
       "    </tr>\n",
       "    <tr>\n",
       "      <th>3</th>\n",
       "      <td>Andhra Pradesh</td>\n",
       "      <td>Vishakhapatnam</td>\n",
       "      <td>Fruits</td>\n",
       "      <td>Apple</td>\n",
       "      <td>Delicious medium size</td>\n",
       "      <td>1 Kg</td>\n",
       "      <td>05/01/2001</td>\n",
       "      <td>38.0</td>\n",
       "    </tr>\n",
       "    <tr>\n",
       "      <th>4</th>\n",
       "      <td>Arunachal Pradesh</td>\n",
       "      <td>Itanagar</td>\n",
       "      <td>Fruits</td>\n",
       "      <td>Apple</td>\n",
       "      <td>Delicious medium size</td>\n",
       "      <td>1 Kg</td>\n",
       "      <td>05/01/2001</td>\n",
       "      <td>38.0</td>\n",
       "    </tr>\n",
       "    <tr>\n",
       "      <th>5</th>\n",
       "      <td>Assam</td>\n",
       "      <td>Dibrugarh</td>\n",
       "      <td>Fruits</td>\n",
       "      <td>Apple</td>\n",
       "      <td>Delicious medium size</td>\n",
       "      <td>1 Kg</td>\n",
       "      <td>05/01/2001</td>\n",
       "      <td>38.0</td>\n",
       "    </tr>\n",
       "    <tr>\n",
       "      <th>6</th>\n",
       "      <td>Assam</td>\n",
       "      <td>Dispur</td>\n",
       "      <td>Fruits</td>\n",
       "      <td>Apple</td>\n",
       "      <td>Delicious medium size</td>\n",
       "      <td>1 Kg</td>\n",
       "      <td>05/01/2001</td>\n",
       "      <td>38.0</td>\n",
       "    </tr>\n",
       "    <tr>\n",
       "      <th>7</th>\n",
       "      <td>Assam</td>\n",
       "      <td>Guwahati</td>\n",
       "      <td>Fruits</td>\n",
       "      <td>Apple</td>\n",
       "      <td>Delicious medium size</td>\n",
       "      <td>1 Kg</td>\n",
       "      <td>05/01/2001</td>\n",
       "      <td>38.0</td>\n",
       "    </tr>\n",
       "    <tr>\n",
       "      <th>8</th>\n",
       "      <td>Assam</td>\n",
       "      <td>Silchar</td>\n",
       "      <td>Fruits</td>\n",
       "      <td>Apple</td>\n",
       "      <td>Delicious medium size</td>\n",
       "      <td>1 Kg</td>\n",
       "      <td>05/01/2001</td>\n",
       "      <td>38.0</td>\n",
       "    </tr>\n",
       "    <tr>\n",
       "      <th>9</th>\n",
       "      <td>Bihar</td>\n",
       "      <td>Gaya</td>\n",
       "      <td>Fruits</td>\n",
       "      <td>Apple</td>\n",
       "      <td>Delicious medium size</td>\n",
       "      <td>1 Kg</td>\n",
       "      <td>05/01/2001</td>\n",
       "      <td>38.0</td>\n",
       "    </tr>\n",
       "  </tbody>\n",
       "</table>\n",
       "</div>"
      ],
      "text/plain": [
       "               State          Centre Category Commodity  \\\n",
       "0     Andhra Pradesh        Chittoor   Fruits     Apple   \n",
       "1     Andhra Pradesh          Guntur   Fruits     Apple   \n",
       "2     Andhra Pradesh         Kurnool   Fruits     Apple   \n",
       "3     Andhra Pradesh  Vishakhapatnam   Fruits     Apple   \n",
       "4  Arunachal Pradesh        Itanagar   Fruits     Apple   \n",
       "5              Assam       Dibrugarh   Fruits     Apple   \n",
       "6              Assam          Dispur   Fruits     Apple   \n",
       "7              Assam        Guwahati   Fruits     Apple   \n",
       "8              Assam         Silchar   Fruits     Apple   \n",
       "9              Bihar            Gaya   Fruits     Apple   \n",
       "\n",
       "                 Variety  Unit        Date  Retail Price  \n",
       "0  Delicious medium size  1 Kg  05/01/2001          38.0  \n",
       "1  Delicious medium size  1 Kg  05/01/2001          38.0  \n",
       "2  Delicious medium size  1 Kg  05/01/2001          38.0  \n",
       "3  Delicious medium size  1 Kg  05/01/2001          38.0  \n",
       "4  Delicious medium size  1 Kg  05/01/2001          38.0  \n",
       "5  Delicious medium size  1 Kg  05/01/2001          38.0  \n",
       "6  Delicious medium size  1 Kg  05/01/2001          38.0  \n",
       "7  Delicious medium size  1 Kg  05/01/2001          38.0  \n",
       "8  Delicious medium size  1 Kg  05/01/2001          38.0  \n",
       "9  Delicious medium size  1 Kg  05/01/2001          38.0  "
      ]
     },
     "execution_count": 31,
     "metadata": {},
     "output_type": "execute_result"
    }
   ],
   "source": [
    "sales.head(10)"
   ]
  },
  {
   "cell_type": "code",
   "execution_count": 32,
   "id": "6d710447",
   "metadata": {},
   "outputs": [
    {
     "data": {
      "text/plain": [
       "05/01/2001    4791\n",
       "11/04/2014    4791\n",
       "25/04/2014    4791\n",
       "02/05/2014    4791\n",
       "09/05/2014    4791\n",
       "              ... \n",
       "02/11/2007    4791\n",
       "09/11/2007    4791\n",
       "16/11/2007    4791\n",
       "23/11/2007    4791\n",
       "05/03/2021    4791\n",
       "Name: Date, Length: 1053, dtype: int64"
      ]
     },
     "execution_count": 32,
     "metadata": {},
     "output_type": "execute_result"
    }
   ],
   "source": [
    "# analysing the 'Date' column\n",
    "sales['Date'].value_counts()"
   ]
  },
  {
   "cell_type": "code",
   "execution_count": 33,
   "id": "c33502c6",
   "metadata": {},
   "outputs": [
    {
     "name": "stdout",
     "output_type": "stream",
     "text": [
      "               date\n",
      "0        05/01/2001\n",
      "1        05/01/2001\n",
      "2        05/01/2001\n",
      "3        05/01/2001\n",
      "4        05/01/2001\n",
      "...             ...\n",
      "5044918  05/03/2021\n",
      "5044919  05/03/2021\n",
      "5044920  05/03/2021\n",
      "5044921  05/03/2021\n",
      "5044922  05/03/2021\n",
      "\n",
      "[5044923 rows x 1 columns]\n"
     ]
    }
   ],
   "source": [
    "# Create DataFrame\n",
    "date = sales['Date']\n",
    "\n",
    "df = pd.DataFrame()\n",
    "df['date'] = date\n",
    "print(df)"
   ]
  },
  {
   "cell_type": "code",
   "execution_count": 34,
   "id": "a1e4ed9e",
   "metadata": {},
   "outputs": [
    {
     "data": {
      "text/html": [
       "<div>\n",
       "<style scoped>\n",
       "    .dataframe tbody tr th:only-of-type {\n",
       "        vertical-align: middle;\n",
       "    }\n",
       "\n",
       "    .dataframe tbody tr th {\n",
       "        vertical-align: top;\n",
       "    }\n",
       "\n",
       "    .dataframe thead th {\n",
       "        text-align: right;\n",
       "    }\n",
       "</style>\n",
       "<table border=\"1\" class=\"dataframe\">\n",
       "  <thead>\n",
       "    <tr style=\"text-align: right;\">\n",
       "      <th></th>\n",
       "      <th>date</th>\n",
       "      <th>Date</th>\n",
       "      <th>Month</th>\n",
       "      <th>Year</th>\n",
       "    </tr>\n",
       "  </thead>\n",
       "  <tbody>\n",
       "    <tr>\n",
       "      <th>0</th>\n",
       "      <td>05/01/2001</td>\n",
       "      <td>05</td>\n",
       "      <td>01</td>\n",
       "      <td>2001</td>\n",
       "    </tr>\n",
       "    <tr>\n",
       "      <th>1</th>\n",
       "      <td>05/01/2001</td>\n",
       "      <td>05</td>\n",
       "      <td>01</td>\n",
       "      <td>2001</td>\n",
       "    </tr>\n",
       "    <tr>\n",
       "      <th>2</th>\n",
       "      <td>05/01/2001</td>\n",
       "      <td>05</td>\n",
       "      <td>01</td>\n",
       "      <td>2001</td>\n",
       "    </tr>\n",
       "    <tr>\n",
       "      <th>3</th>\n",
       "      <td>05/01/2001</td>\n",
       "      <td>05</td>\n",
       "      <td>01</td>\n",
       "      <td>2001</td>\n",
       "    </tr>\n",
       "    <tr>\n",
       "      <th>4</th>\n",
       "      <td>05/01/2001</td>\n",
       "      <td>05</td>\n",
       "      <td>01</td>\n",
       "      <td>2001</td>\n",
       "    </tr>\n",
       "    <tr>\n",
       "      <th>...</th>\n",
       "      <td>...</td>\n",
       "      <td>...</td>\n",
       "      <td>...</td>\n",
       "      <td>...</td>\n",
       "    </tr>\n",
       "    <tr>\n",
       "      <th>5044918</th>\n",
       "      <td>05/03/2021</td>\n",
       "      <td>05</td>\n",
       "      <td>03</td>\n",
       "      <td>2021</td>\n",
       "    </tr>\n",
       "    <tr>\n",
       "      <th>5044919</th>\n",
       "      <td>05/03/2021</td>\n",
       "      <td>05</td>\n",
       "      <td>03</td>\n",
       "      <td>2021</td>\n",
       "    </tr>\n",
       "    <tr>\n",
       "      <th>5044920</th>\n",
       "      <td>05/03/2021</td>\n",
       "      <td>05</td>\n",
       "      <td>03</td>\n",
       "      <td>2021</td>\n",
       "    </tr>\n",
       "    <tr>\n",
       "      <th>5044921</th>\n",
       "      <td>05/03/2021</td>\n",
       "      <td>05</td>\n",
       "      <td>03</td>\n",
       "      <td>2021</td>\n",
       "    </tr>\n",
       "    <tr>\n",
       "      <th>5044922</th>\n",
       "      <td>05/03/2021</td>\n",
       "      <td>05</td>\n",
       "      <td>03</td>\n",
       "      <td>2021</td>\n",
       "    </tr>\n",
       "  </tbody>\n",
       "</table>\n",
       "<p>5044923 rows × 4 columns</p>\n",
       "</div>"
      ],
      "text/plain": [
       "               date Date Month  Year\n",
       "0        05/01/2001   05    01  2001\n",
       "1        05/01/2001   05    01  2001\n",
       "2        05/01/2001   05    01  2001\n",
       "3        05/01/2001   05    01  2001\n",
       "4        05/01/2001   05    01  2001\n",
       "...             ...  ...   ...   ...\n",
       "5044918  05/03/2021   05    03  2021\n",
       "5044919  05/03/2021   05    03  2021\n",
       "5044920  05/03/2021   05    03  2021\n",
       "5044921  05/03/2021   05    03  2021\n",
       "5044922  05/03/2021   05    03  2021\n",
       "\n",
       "[5044923 rows x 4 columns]"
      ]
     },
     "execution_count": 34,
     "metadata": {},
     "output_type": "execute_result"
    }
   ],
   "source": [
    "# split column into multiple columns by delimiter \n",
    "df[['Date', 'Month', 'Year']] = df['date'].str.split('/', expand=True)\n",
    "df"
   ]
  },
  {
   "cell_type": "code",
   "execution_count": 35,
   "id": "dbb91a2e",
   "metadata": {},
   "outputs": [
    {
     "data": {
      "text/html": [
       "<div>\n",
       "<style scoped>\n",
       "    .dataframe tbody tr th:only-of-type {\n",
       "        vertical-align: middle;\n",
       "    }\n",
       "\n",
       "    .dataframe tbody tr th {\n",
       "        vertical-align: top;\n",
       "    }\n",
       "\n",
       "    .dataframe thead th {\n",
       "        text-align: right;\n",
       "    }\n",
       "</style>\n",
       "<table border=\"1\" class=\"dataframe\">\n",
       "  <thead>\n",
       "    <tr style=\"text-align: right;\">\n",
       "      <th></th>\n",
       "      <th>Month</th>\n",
       "    </tr>\n",
       "  </thead>\n",
       "  <tbody>\n",
       "    <tr>\n",
       "      <th>0</th>\n",
       "      <td>January</td>\n",
       "    </tr>\n",
       "    <tr>\n",
       "      <th>1</th>\n",
       "      <td>January</td>\n",
       "    </tr>\n",
       "    <tr>\n",
       "      <th>2</th>\n",
       "      <td>January</td>\n",
       "    </tr>\n",
       "    <tr>\n",
       "      <th>3</th>\n",
       "      <td>January</td>\n",
       "    </tr>\n",
       "    <tr>\n",
       "      <th>4</th>\n",
       "      <td>January</td>\n",
       "    </tr>\n",
       "    <tr>\n",
       "      <th>...</th>\n",
       "      <td>...</td>\n",
       "    </tr>\n",
       "    <tr>\n",
       "      <th>5044918</th>\n",
       "      <td>March</td>\n",
       "    </tr>\n",
       "    <tr>\n",
       "      <th>5044919</th>\n",
       "      <td>March</td>\n",
       "    </tr>\n",
       "    <tr>\n",
       "      <th>5044920</th>\n",
       "      <td>March</td>\n",
       "    </tr>\n",
       "    <tr>\n",
       "      <th>5044921</th>\n",
       "      <td>March</td>\n",
       "    </tr>\n",
       "    <tr>\n",
       "      <th>5044922</th>\n",
       "      <td>March</td>\n",
       "    </tr>\n",
       "  </tbody>\n",
       "</table>\n",
       "<p>5044923 rows × 1 columns</p>\n",
       "</div>"
      ],
      "text/plain": [
       "           Month\n",
       "0        January\n",
       "1        January\n",
       "2        January\n",
       "3        January\n",
       "4        January\n",
       "...          ...\n",
       "5044918    March\n",
       "5044919    March\n",
       "5044920    March\n",
       "5044921    March\n",
       "5044922    March\n",
       "\n",
       "[5044923 rows x 1 columns]"
      ]
     },
     "execution_count": 35,
     "metadata": {},
     "output_type": "execute_result"
    }
   ],
   "source": [
    "# creating a new dataframe\n",
    "dff = pd.DataFrame()\n",
    "dff['Month'] = df['Month'].replace(['01', '02', '03', '04', '05', '06', '07', '08', '09', '10', '11','12'], \n",
    "                                   ['January', 'February', 'March', 'April', 'May', 'June', 'July', 'August', 'September', 'October', 'November', 'December'])\n",
    "dff"
   ]
  },
  {
   "cell_type": "code",
   "execution_count": 36,
   "id": "0c24848b",
   "metadata": {},
   "outputs": [
    {
     "data": {
      "text/html": [
       "<div>\n",
       "<style scoped>\n",
       "    .dataframe tbody tr th:only-of-type {\n",
       "        vertical-align: middle;\n",
       "    }\n",
       "\n",
       "    .dataframe tbody tr th {\n",
       "        vertical-align: top;\n",
       "    }\n",
       "\n",
       "    .dataframe thead th {\n",
       "        text-align: right;\n",
       "    }\n",
       "</style>\n",
       "<table border=\"1\" class=\"dataframe\">\n",
       "  <thead>\n",
       "    <tr style=\"text-align: right;\">\n",
       "      <th></th>\n",
       "      <th>State</th>\n",
       "      <th>Centre</th>\n",
       "      <th>Category</th>\n",
       "      <th>Commodity</th>\n",
       "      <th>Variety</th>\n",
       "      <th>Unit</th>\n",
       "      <th>Date</th>\n",
       "      <th>Retail Price</th>\n",
       "      <th>Month</th>\n",
       "    </tr>\n",
       "  </thead>\n",
       "  <tbody>\n",
       "    <tr>\n",
       "      <th>0</th>\n",
       "      <td>Andhra Pradesh</td>\n",
       "      <td>Chittoor</td>\n",
       "      <td>Fruits</td>\n",
       "      <td>Apple</td>\n",
       "      <td>Delicious medium size</td>\n",
       "      <td>1 Kg</td>\n",
       "      <td>05/01/2001</td>\n",
       "      <td>38.0</td>\n",
       "      <td>January</td>\n",
       "    </tr>\n",
       "    <tr>\n",
       "      <th>1</th>\n",
       "      <td>Andhra Pradesh</td>\n",
       "      <td>Guntur</td>\n",
       "      <td>Fruits</td>\n",
       "      <td>Apple</td>\n",
       "      <td>Delicious medium size</td>\n",
       "      <td>1 Kg</td>\n",
       "      <td>05/01/2001</td>\n",
       "      <td>38.0</td>\n",
       "      <td>January</td>\n",
       "    </tr>\n",
       "    <tr>\n",
       "      <th>2</th>\n",
       "      <td>Andhra Pradesh</td>\n",
       "      <td>Kurnool</td>\n",
       "      <td>Fruits</td>\n",
       "      <td>Apple</td>\n",
       "      <td>Delicious medium size</td>\n",
       "      <td>1 Kg</td>\n",
       "      <td>05/01/2001</td>\n",
       "      <td>38.0</td>\n",
       "      <td>January</td>\n",
       "    </tr>\n",
       "    <tr>\n",
       "      <th>3</th>\n",
       "      <td>Andhra Pradesh</td>\n",
       "      <td>Vishakhapatnam</td>\n",
       "      <td>Fruits</td>\n",
       "      <td>Apple</td>\n",
       "      <td>Delicious medium size</td>\n",
       "      <td>1 Kg</td>\n",
       "      <td>05/01/2001</td>\n",
       "      <td>38.0</td>\n",
       "      <td>January</td>\n",
       "    </tr>\n",
       "    <tr>\n",
       "      <th>4</th>\n",
       "      <td>Arunachal Pradesh</td>\n",
       "      <td>Itanagar</td>\n",
       "      <td>Fruits</td>\n",
       "      <td>Apple</td>\n",
       "      <td>Delicious medium size</td>\n",
       "      <td>1 Kg</td>\n",
       "      <td>05/01/2001</td>\n",
       "      <td>38.0</td>\n",
       "      <td>January</td>\n",
       "    </tr>\n",
       "  </tbody>\n",
       "</table>\n",
       "</div>"
      ],
      "text/plain": [
       "               State          Centre Category Commodity  \\\n",
       "0     Andhra Pradesh        Chittoor   Fruits     Apple   \n",
       "1     Andhra Pradesh          Guntur   Fruits     Apple   \n",
       "2     Andhra Pradesh         Kurnool   Fruits     Apple   \n",
       "3     Andhra Pradesh  Vishakhapatnam   Fruits     Apple   \n",
       "4  Arunachal Pradesh        Itanagar   Fruits     Apple   \n",
       "\n",
       "                 Variety  Unit        Date  Retail Price    Month  \n",
       "0  Delicious medium size  1 Kg  05/01/2001          38.0  January  \n",
       "1  Delicious medium size  1 Kg  05/01/2001          38.0  January  \n",
       "2  Delicious medium size  1 Kg  05/01/2001          38.0  January  \n",
       "3  Delicious medium size  1 Kg  05/01/2001          38.0  January  \n",
       "4  Delicious medium size  1 Kg  05/01/2001          38.0  January  "
      ]
     },
     "execution_count": 36,
     "metadata": {},
     "output_type": "execute_result"
    }
   ],
   "source": [
    "sales = pd.concat([sales, dff], axis=1)\n",
    "sales.head(5)"
   ]
  },
  {
   "cell_type": "code",
   "execution_count": 37,
   "id": "027f40ff",
   "metadata": {},
   "outputs": [
    {
     "data": {
      "text/html": [
       "<div>\n",
       "<style scoped>\n",
       "    .dataframe tbody tr th:only-of-type {\n",
       "        vertical-align: middle;\n",
       "    }\n",
       "\n",
       "    .dataframe tbody tr th {\n",
       "        vertical-align: top;\n",
       "    }\n",
       "\n",
       "    .dataframe thead th {\n",
       "        text-align: right;\n",
       "    }\n",
       "</style>\n",
       "<table border=\"1\" class=\"dataframe\">\n",
       "  <thead>\n",
       "    <tr style=\"text-align: right;\">\n",
       "      <th></th>\n",
       "      <th>State</th>\n",
       "      <th>Centre</th>\n",
       "      <th>Category</th>\n",
       "      <th>Commodity</th>\n",
       "      <th>Variety</th>\n",
       "      <th>Unit</th>\n",
       "      <th>Retail Price</th>\n",
       "      <th>Month</th>\n",
       "    </tr>\n",
       "  </thead>\n",
       "  <tbody>\n",
       "    <tr>\n",
       "      <th>0</th>\n",
       "      <td>Andhra Pradesh</td>\n",
       "      <td>Chittoor</td>\n",
       "      <td>Fruits</td>\n",
       "      <td>Apple</td>\n",
       "      <td>Delicious medium size</td>\n",
       "      <td>1 Kg</td>\n",
       "      <td>38.0</td>\n",
       "      <td>January</td>\n",
       "    </tr>\n",
       "    <tr>\n",
       "      <th>1</th>\n",
       "      <td>Andhra Pradesh</td>\n",
       "      <td>Guntur</td>\n",
       "      <td>Fruits</td>\n",
       "      <td>Apple</td>\n",
       "      <td>Delicious medium size</td>\n",
       "      <td>1 Kg</td>\n",
       "      <td>38.0</td>\n",
       "      <td>January</td>\n",
       "    </tr>\n",
       "    <tr>\n",
       "      <th>2</th>\n",
       "      <td>Andhra Pradesh</td>\n",
       "      <td>Kurnool</td>\n",
       "      <td>Fruits</td>\n",
       "      <td>Apple</td>\n",
       "      <td>Delicious medium size</td>\n",
       "      <td>1 Kg</td>\n",
       "      <td>38.0</td>\n",
       "      <td>January</td>\n",
       "    </tr>\n",
       "    <tr>\n",
       "      <th>3</th>\n",
       "      <td>Andhra Pradesh</td>\n",
       "      <td>Vishakhapatnam</td>\n",
       "      <td>Fruits</td>\n",
       "      <td>Apple</td>\n",
       "      <td>Delicious medium size</td>\n",
       "      <td>1 Kg</td>\n",
       "      <td>38.0</td>\n",
       "      <td>January</td>\n",
       "    </tr>\n",
       "    <tr>\n",
       "      <th>4</th>\n",
       "      <td>Arunachal Pradesh</td>\n",
       "      <td>Itanagar</td>\n",
       "      <td>Fruits</td>\n",
       "      <td>Apple</td>\n",
       "      <td>Delicious medium size</td>\n",
       "      <td>1 Kg</td>\n",
       "      <td>38.0</td>\n",
       "      <td>January</td>\n",
       "    </tr>\n",
       "  </tbody>\n",
       "</table>\n",
       "</div>"
      ],
      "text/plain": [
       "               State          Centre Category Commodity  \\\n",
       "0     Andhra Pradesh        Chittoor   Fruits     Apple   \n",
       "1     Andhra Pradesh          Guntur   Fruits     Apple   \n",
       "2     Andhra Pradesh         Kurnool   Fruits     Apple   \n",
       "3     Andhra Pradesh  Vishakhapatnam   Fruits     Apple   \n",
       "4  Arunachal Pradesh        Itanagar   Fruits     Apple   \n",
       "\n",
       "                 Variety  Unit  Retail Price    Month  \n",
       "0  Delicious medium size  1 Kg          38.0  January  \n",
       "1  Delicious medium size  1 Kg          38.0  January  \n",
       "2  Delicious medium size  1 Kg          38.0  January  \n",
       "3  Delicious medium size  1 Kg          38.0  January  \n",
       "4  Delicious medium size  1 Kg          38.0  January  "
      ]
     },
     "execution_count": 37,
     "metadata": {},
     "output_type": "execute_result"
    }
   ],
   "source": [
    "# Remove the 'Date' column\n",
    "sales.drop(['Date'], axis=1, inplace=True)\n",
    "sales.head(5)"
   ]
  },
  {
   "cell_type": "code",
   "execution_count": 38,
   "id": "b2ac1982",
   "metadata": {},
   "outputs": [
    {
     "name": "stdout",
     "output_type": "stream",
     "text": [
      "(5044923, 8)\n"
     ]
    },
    {
     "data": {
      "text/html": [
       "<div>\n",
       "<style scoped>\n",
       "    .dataframe tbody tr th:only-of-type {\n",
       "        vertical-align: middle;\n",
       "    }\n",
       "\n",
       "    .dataframe tbody tr th {\n",
       "        vertical-align: top;\n",
       "    }\n",
       "\n",
       "    .dataframe thead th {\n",
       "        text-align: right;\n",
       "    }\n",
       "</style>\n",
       "<table border=\"1\" class=\"dataframe\">\n",
       "  <thead>\n",
       "    <tr style=\"text-align: right;\">\n",
       "      <th></th>\n",
       "      <th>State</th>\n",
       "      <th>Centre</th>\n",
       "      <th>Category</th>\n",
       "      <th>Commodity</th>\n",
       "      <th>Variety</th>\n",
       "      <th>Unit</th>\n",
       "      <th>Month</th>\n",
       "      <th>Retail Price</th>\n",
       "    </tr>\n",
       "  </thead>\n",
       "  <tbody>\n",
       "    <tr>\n",
       "      <th>0</th>\n",
       "      <td>Andhra Pradesh</td>\n",
       "      <td>Chittoor</td>\n",
       "      <td>Fruits</td>\n",
       "      <td>Apple</td>\n",
       "      <td>Delicious medium size</td>\n",
       "      <td>1 Kg</td>\n",
       "      <td>January</td>\n",
       "      <td>38.0</td>\n",
       "    </tr>\n",
       "    <tr>\n",
       "      <th>1</th>\n",
       "      <td>Andhra Pradesh</td>\n",
       "      <td>Guntur</td>\n",
       "      <td>Fruits</td>\n",
       "      <td>Apple</td>\n",
       "      <td>Delicious medium size</td>\n",
       "      <td>1 Kg</td>\n",
       "      <td>January</td>\n",
       "      <td>38.0</td>\n",
       "    </tr>\n",
       "    <tr>\n",
       "      <th>2</th>\n",
       "      <td>Andhra Pradesh</td>\n",
       "      <td>Kurnool</td>\n",
       "      <td>Fruits</td>\n",
       "      <td>Apple</td>\n",
       "      <td>Delicious medium size</td>\n",
       "      <td>1 Kg</td>\n",
       "      <td>January</td>\n",
       "      <td>38.0</td>\n",
       "    </tr>\n",
       "    <tr>\n",
       "      <th>3</th>\n",
       "      <td>Andhra Pradesh</td>\n",
       "      <td>Vishakhapatnam</td>\n",
       "      <td>Fruits</td>\n",
       "      <td>Apple</td>\n",
       "      <td>Delicious medium size</td>\n",
       "      <td>1 Kg</td>\n",
       "      <td>January</td>\n",
       "      <td>38.0</td>\n",
       "    </tr>\n",
       "    <tr>\n",
       "      <th>4</th>\n",
       "      <td>Arunachal Pradesh</td>\n",
       "      <td>Itanagar</td>\n",
       "      <td>Fruits</td>\n",
       "      <td>Apple</td>\n",
       "      <td>Delicious medium size</td>\n",
       "      <td>1 Kg</td>\n",
       "      <td>January</td>\n",
       "      <td>38.0</td>\n",
       "    </tr>\n",
       "  </tbody>\n",
       "</table>\n",
       "</div>"
      ],
      "text/plain": [
       "               State          Centre Category Commodity  \\\n",
       "0     Andhra Pradesh        Chittoor   Fruits     Apple   \n",
       "1     Andhra Pradesh          Guntur   Fruits     Apple   \n",
       "2     Andhra Pradesh         Kurnool   Fruits     Apple   \n",
       "3     Andhra Pradesh  Vishakhapatnam   Fruits     Apple   \n",
       "4  Arunachal Pradesh        Itanagar   Fruits     Apple   \n",
       "\n",
       "                 Variety  Unit    Month  Retail Price  \n",
       "0  Delicious medium size  1 Kg  January          38.0  \n",
       "1  Delicious medium size  1 Kg  January          38.0  \n",
       "2  Delicious medium size  1 Kg  January          38.0  \n",
       "3  Delicious medium size  1 Kg  January          38.0  \n",
       "4  Delicious medium size  1 Kg  January          38.0  "
      ]
     },
     "execution_count": 38,
     "metadata": {},
     "output_type": "execute_result"
    }
   ],
   "source": [
    "# Re-ordering the columns\n",
    "sales = sales.reindex(columns=['State', 'Centre', 'Category', 'Commodity', 'Variety', 'Unit', 'Month', 'Retail Price'])\n",
    "print(sales.shape)\n",
    "sales.head(5)"
   ]
  },
  {
   "cell_type": "code",
   "execution_count": 39,
   "id": "207b46cf",
   "metadata": {},
   "outputs": [
    {
     "data": {
      "text/html": [
       "<div>\n",
       "<style scoped>\n",
       "    .dataframe tbody tr th:only-of-type {\n",
       "        vertical-align: middle;\n",
       "    }\n",
       "\n",
       "    .dataframe tbody tr th {\n",
       "        vertical-align: top;\n",
       "    }\n",
       "\n",
       "    .dataframe thead th {\n",
       "        text-align: right;\n",
       "    }\n",
       "</style>\n",
       "<table border=\"1\" class=\"dataframe\">\n",
       "  <thead>\n",
       "    <tr style=\"text-align: right;\">\n",
       "      <th></th>\n",
       "      <th>State</th>\n",
       "      <th>Centre</th>\n",
       "      <th>Commodity</th>\n",
       "      <th>Variety</th>\n",
       "      <th>Category</th>\n",
       "      <th>Unit</th>\n",
       "      <th>Month</th>\n",
       "      <th>Retail Price</th>\n",
       "    </tr>\n",
       "  </thead>\n",
       "  <tbody>\n",
       "    <tr>\n",
       "      <th>0</th>\n",
       "      <td>Andhra Pradesh</td>\n",
       "      <td>Chittoor</td>\n",
       "      <td>Apple</td>\n",
       "      <td>Delicious medium size</td>\n",
       "      <td>Fruits</td>\n",
       "      <td>1 Kg</td>\n",
       "      <td>April</td>\n",
       "      <td>87.529412</td>\n",
       "    </tr>\n",
       "    <tr>\n",
       "      <th>1</th>\n",
       "      <td>Andhra Pradesh</td>\n",
       "      <td>Chittoor</td>\n",
       "      <td>Apple</td>\n",
       "      <td>Delicious medium size</td>\n",
       "      <td>Fruits</td>\n",
       "      <td>1 Kg</td>\n",
       "      <td>August</td>\n",
       "      <td>92.888889</td>\n",
       "    </tr>\n",
       "    <tr>\n",
       "      <th>2</th>\n",
       "      <td>Andhra Pradesh</td>\n",
       "      <td>Chittoor</td>\n",
       "      <td>Apple</td>\n",
       "      <td>Delicious medium size</td>\n",
       "      <td>Fruits</td>\n",
       "      <td>1 Kg</td>\n",
       "      <td>December</td>\n",
       "      <td>84.080460</td>\n",
       "    </tr>\n",
       "    <tr>\n",
       "      <th>3</th>\n",
       "      <td>Andhra Pradesh</td>\n",
       "      <td>Chittoor</td>\n",
       "      <td>Apple</td>\n",
       "      <td>Delicious medium size</td>\n",
       "      <td>Fruits</td>\n",
       "      <td>1 Kg</td>\n",
       "      <td>February</td>\n",
       "      <td>86.858824</td>\n",
       "    </tr>\n",
       "    <tr>\n",
       "      <th>4</th>\n",
       "      <td>Andhra Pradesh</td>\n",
       "      <td>Chittoor</td>\n",
       "      <td>Apple</td>\n",
       "      <td>Delicious medium size</td>\n",
       "      <td>Fruits</td>\n",
       "      <td>1 Kg</td>\n",
       "      <td>January</td>\n",
       "      <td>84.946237</td>\n",
       "    </tr>\n",
       "    <tr>\n",
       "      <th>5</th>\n",
       "      <td>Andhra Pradesh</td>\n",
       "      <td>Chittoor</td>\n",
       "      <td>Apple</td>\n",
       "      <td>Delicious medium size</td>\n",
       "      <td>Fruits</td>\n",
       "      <td>1 Kg</td>\n",
       "      <td>July</td>\n",
       "      <td>96.056818</td>\n",
       "    </tr>\n",
       "    <tr>\n",
       "      <th>6</th>\n",
       "      <td>Andhra Pradesh</td>\n",
       "      <td>Chittoor</td>\n",
       "      <td>Apple</td>\n",
       "      <td>Delicious medium size</td>\n",
       "      <td>Fruits</td>\n",
       "      <td>1 Kg</td>\n",
       "      <td>June</td>\n",
       "      <td>93.465116</td>\n",
       "    </tr>\n",
       "    <tr>\n",
       "      <th>7</th>\n",
       "      <td>Andhra Pradesh</td>\n",
       "      <td>Chittoor</td>\n",
       "      <td>Apple</td>\n",
       "      <td>Delicious medium size</td>\n",
       "      <td>Fruits</td>\n",
       "      <td>1 Kg</td>\n",
       "      <td>March</td>\n",
       "      <td>88.188889</td>\n",
       "    </tr>\n",
       "    <tr>\n",
       "      <th>8</th>\n",
       "      <td>Andhra Pradesh</td>\n",
       "      <td>Chittoor</td>\n",
       "      <td>Apple</td>\n",
       "      <td>Delicious medium size</td>\n",
       "      <td>Fruits</td>\n",
       "      <td>1 Kg</td>\n",
       "      <td>May</td>\n",
       "      <td>95.449438</td>\n",
       "    </tr>\n",
       "    <tr>\n",
       "      <th>9</th>\n",
       "      <td>Andhra Pradesh</td>\n",
       "      <td>Chittoor</td>\n",
       "      <td>Apple</td>\n",
       "      <td>Delicious medium size</td>\n",
       "      <td>Fruits</td>\n",
       "      <td>1 Kg</td>\n",
       "      <td>November</td>\n",
       "      <td>78.620690</td>\n",
       "    </tr>\n",
       "  </tbody>\n",
       "</table>\n",
       "</div>"
      ],
      "text/plain": [
       "            State    Centre Commodity                Variety Category  Unit  \\\n",
       "0  Andhra Pradesh  Chittoor     Apple  Delicious medium size   Fruits  1 Kg   \n",
       "1  Andhra Pradesh  Chittoor     Apple  Delicious medium size   Fruits  1 Kg   \n",
       "2  Andhra Pradesh  Chittoor     Apple  Delicious medium size   Fruits  1 Kg   \n",
       "3  Andhra Pradesh  Chittoor     Apple  Delicious medium size   Fruits  1 Kg   \n",
       "4  Andhra Pradesh  Chittoor     Apple  Delicious medium size   Fruits  1 Kg   \n",
       "5  Andhra Pradesh  Chittoor     Apple  Delicious medium size   Fruits  1 Kg   \n",
       "6  Andhra Pradesh  Chittoor     Apple  Delicious medium size   Fruits  1 Kg   \n",
       "7  Andhra Pradesh  Chittoor     Apple  Delicious medium size   Fruits  1 Kg   \n",
       "8  Andhra Pradesh  Chittoor     Apple  Delicious medium size   Fruits  1 Kg   \n",
       "9  Andhra Pradesh  Chittoor     Apple  Delicious medium size   Fruits  1 Kg   \n",
       "\n",
       "      Month  Retail Price  \n",
       "0     April     87.529412  \n",
       "1    August     92.888889  \n",
       "2  December     84.080460  \n",
       "3  February     86.858824  \n",
       "4   January     84.946237  \n",
       "5      July     96.056818  \n",
       "6      June     93.465116  \n",
       "7     March     88.188889  \n",
       "8       May     95.449438  \n",
       "9  November     78.620690  "
      ]
     },
     "execution_count": 39,
     "metadata": {},
     "output_type": "execute_result"
    }
   ],
   "source": [
    "# Grouping the rows and averaging the Retail Price\n",
    "sales = sales.groupby(['State', 'Centre', 'Commodity', 'Variety', 'Category', 'Unit', 'Month'], axis=0, as_index=False).mean()\n",
    "\n",
    "sales.head(10)"
   ]
  },
  {
   "cell_type": "markdown",
   "id": "8ae62412",
   "metadata": {},
   "source": [
    "#### Visualizing the 'target' variable"
   ]
  },
  {
   "cell_type": "code",
   "execution_count": 40,
   "id": "810cb647",
   "metadata": {},
   "outputs": [
    {
     "data": {
      "image/png": "[encoded data removed]",
      "text/plain": [
       "<Figure size 432x288 with 1 Axes>"
      ]
     },
     "metadata": {
      "needs_background": "light"
     },
     "output_type": "display_data"
    }
   ],
   "source": [
    "sns.distplot(sales['Retail Price'])\n",
    "plt.show()"
   ]
  },
  {
   "cell_type": "code",
   "execution_count": 41,
   "id": "f4eed734",
   "metadata": {},
   "outputs": [
    {
     "data": {
      "text/plain": [
       "State           0\n",
       "Centre          0\n",
       "Commodity       0\n",
       "Variety         0\n",
       "Category        0\n",
       "Unit            0\n",
       "Month           0\n",
       "Retail Price    0\n",
       "dtype: int64"
      ]
     },
     "execution_count": 41,
     "metadata": {},
     "output_type": "execute_result"
    }
   ],
   "source": [
    "# Let's check if any more missing values present\n",
    "sales.isnull().sum()"
   ]
  },
  {
   "cell_type": "markdown",
   "id": "4532b729",
   "metadata": {},
   "source": [
    "#### Visualizing the categorical variables"
   ]
  },
  {
   "cell_type": "code",
   "execution_count": 42,
   "id": "11ed3632",
   "metadata": {},
   "outputs": [
    {
     "data": {
      "text/plain": [
       "['State', 'Centre', 'Commodity', 'Variety', 'Category', 'Unit', 'Month']"
      ]
     },
     "execution_count": 42,
     "metadata": {},
     "output_type": "execute_result"
    }
   ],
   "source": [
    "# check for categorical columns\n",
    "cat_col = []\n",
    "for x in sales.dtypes.index:\n",
    "    if sales.dtypes[x] == 'object':\n",
    "        cat_col.append(x)\n",
    "cat_col"
   ]
  },
  {
   "cell_type": "code",
   "execution_count": 43,
   "id": "b7b7ec5e",
   "metadata": {},
   "outputs": [
    {
     "data": {
      "image/png": "[encoded data removed]",
      "text/plain": [
       "<Figure size 1440x360 with 1 Axes>"
      ]
     },
     "metadata": {
      "needs_background": "light"
     },
     "output_type": "display_data"
    }
   ],
   "source": [
    "plt.figure(figsize=(20,5))\n",
    "sns.countplot(sales['Category'])\n",
    "plt.xticks(rotation=\"vertical\")\n",
    "plt.show()"
   ]
  },
  {
   "cell_type": "code",
   "execution_count": 44,
   "id": "0ec5a5fd",
   "metadata": {},
   "outputs": [
    {
     "data": {
      "image/png": "[encoded data removed]",
      "text/plain": [
       "<Figure size 1440x360 with 1 Axes>"
      ]
     },
     "metadata": {
      "needs_background": "light"
     },
     "output_type": "display_data"
    }
   ],
   "source": [
    "plt.figure(figsize=(20,5))\n",
    "sns.countplot(sales['Commodity'])\n",
    "plt.xticks(rotation=\"vertical\")\n",
    "plt.show()"
   ]
  },
  {
   "cell_type": "code",
   "execution_count": 45,
   "id": "9c3660ce",
   "metadata": {},
   "outputs": [
    {
     "data": {
      "image/png": "[encoded data removed]",
      "text/plain": [
       "<Figure size 1440x360 with 1 Axes>"
      ]
     },
     "metadata": {
      "needs_background": "light"
     },
     "output_type": "display_data"
    }
   ],
   "source": [
    "plt.figure(figsize=(20,5))\n",
    "sns.countplot(sales['Variety'])\n",
    "plt.xticks(rotation=\"vertical\")\n",
    "plt.show()"
   ]
  },
  {
   "cell_type": "code",
   "execution_count": 46,
   "id": "a2800231",
   "metadata": {},
   "outputs": [
    {
     "data": {
      "image/png": "[encoded data removed]",
      "text/plain": [
       "<Figure size 1440x360 with 1 Axes>"
      ]
     },
     "metadata": {
      "needs_background": "light"
     },
     "output_type": "display_data"
    }
   ],
   "source": [
    "plt.figure(figsize=(20,5))\n",
    "sns.countplot(sales['Unit'])\n",
    "plt.xticks(rotation=\"vertical\")\n",
    "plt.show()"
   ]
  },
  {
   "cell_type": "code",
   "execution_count": 47,
   "id": "726d4eb5",
   "metadata": {},
   "outputs": [
    {
     "data": {
      "image/png": "[encoded data removed]",
      "text/plain": [
       "<Figure size 1440x360 with 1 Axes>"
      ]
     },
     "metadata": {
      "needs_background": "light"
     },
     "output_type": "display_data"
    }
   ],
   "source": [
    "plt.figure(figsize=(20,5))\n",
    "sns.countplot(sales['Month'])\n",
    "plt.xticks(rotation=\"vertical\")\n",
    "plt.show()"
   ]
  },
  {
   "cell_type": "code",
   "execution_count": 48,
   "id": "c9d19580",
   "metadata": {},
   "outputs": [
    {
     "data": {
      "image/png": "[encoded data removed]",
      "text/plain": [
       "<Figure size 1440x360 with 1 Axes>"
      ]
     },
     "metadata": {
      "needs_background": "light"
     },
     "output_type": "display_data"
    }
   ],
   "source": [
    "plt.figure(figsize=(20,5))\n",
    "sns.countplot(sales['State'])\n",
    "plt.xticks(rotation=\"vertical\")\n",
    "plt.show()"
   ]
  },
  {
   "cell_type": "code",
   "execution_count": 49,
   "id": "13bd2a0f",
   "metadata": {},
   "outputs": [
    {
     "data": {
      "image/png": "[encoded data removed]",
      "text/plain": [
       "<Figure size 1440x360 with 1 Axes>"
      ]
     },
     "metadata": {
      "needs_background": "light"
     },
     "output_type": "display_data"
    }
   ],
   "source": [
    "plt.figure(figsize=(20,5))\n",
    "sns.countplot(sales['Centre'])\n",
    "plt.xticks(rotation=\"vertical\")\n",
    "plt.show()"
   ]
  },
  {
   "cell_type": "code",
   "execution_count": 50,
   "id": "0bd97857",
   "metadata": {},
   "outputs": [
    {
     "data": {
      "text/html": [
       "<div>\n",
       "<style scoped>\n",
       "    .dataframe tbody tr th:only-of-type {\n",
       "        vertical-align: middle;\n",
       "    }\n",
       "\n",
       "    .dataframe tbody tr th {\n",
       "        vertical-align: top;\n",
       "    }\n",
       "\n",
       "    .dataframe thead th {\n",
       "        text-align: right;\n",
       "    }\n",
       "</style>\n",
       "<table border=\"1\" class=\"dataframe\">\n",
       "  <thead>\n",
       "    <tr style=\"text-align: right;\">\n",
       "      <th></th>\n",
       "      <th>State</th>\n",
       "      <th>Centre</th>\n",
       "      <th>Commodity</th>\n",
       "      <th>Variety</th>\n",
       "      <th>Category</th>\n",
       "      <th>Unit</th>\n",
       "      <th>Month</th>\n",
       "      <th>Retail Price</th>\n",
       "    </tr>\n",
       "  </thead>\n",
       "  <tbody>\n",
       "    <tr>\n",
       "      <th>0</th>\n",
       "      <td>Andhra Pradesh</td>\n",
       "      <td>Chittoor</td>\n",
       "      <td>Apple</td>\n",
       "      <td>Delicious medium size</td>\n",
       "      <td>Fruits</td>\n",
       "      <td>1 Kg</td>\n",
       "      <td>April</td>\n",
       "      <td>87.529412</td>\n",
       "    </tr>\n",
       "    <tr>\n",
       "      <th>1</th>\n",
       "      <td>Andhra Pradesh</td>\n",
       "      <td>Chittoor</td>\n",
       "      <td>Apple</td>\n",
       "      <td>Delicious medium size</td>\n",
       "      <td>Fruits</td>\n",
       "      <td>1 Kg</td>\n",
       "      <td>August</td>\n",
       "      <td>92.888889</td>\n",
       "    </tr>\n",
       "    <tr>\n",
       "      <th>2</th>\n",
       "      <td>Andhra Pradesh</td>\n",
       "      <td>Chittoor</td>\n",
       "      <td>Apple</td>\n",
       "      <td>Delicious medium size</td>\n",
       "      <td>Fruits</td>\n",
       "      <td>1 Kg</td>\n",
       "      <td>December</td>\n",
       "      <td>84.080460</td>\n",
       "    </tr>\n",
       "    <tr>\n",
       "      <th>3</th>\n",
       "      <td>Andhra Pradesh</td>\n",
       "      <td>Chittoor</td>\n",
       "      <td>Apple</td>\n",
       "      <td>Delicious medium size</td>\n",
       "      <td>Fruits</td>\n",
       "      <td>1 Kg</td>\n",
       "      <td>February</td>\n",
       "      <td>86.858824</td>\n",
       "    </tr>\n",
       "    <tr>\n",
       "      <th>4</th>\n",
       "      <td>Andhra Pradesh</td>\n",
       "      <td>Chittoor</td>\n",
       "      <td>Apple</td>\n",
       "      <td>Delicious medium size</td>\n",
       "      <td>Fruits</td>\n",
       "      <td>1 Kg</td>\n",
       "      <td>January</td>\n",
       "      <td>84.946237</td>\n",
       "    </tr>\n",
       "  </tbody>\n",
       "</table>\n",
       "</div>"
      ],
      "text/plain": [
       "            State    Centre Commodity                Variety Category  Unit  \\\n",
       "0  Andhra Pradesh  Chittoor     Apple  Delicious medium size   Fruits  1 Kg   \n",
       "1  Andhra Pradesh  Chittoor     Apple  Delicious medium size   Fruits  1 Kg   \n",
       "2  Andhra Pradesh  Chittoor     Apple  Delicious medium size   Fruits  1 Kg   \n",
       "3  Andhra Pradesh  Chittoor     Apple  Delicious medium size   Fruits  1 Kg   \n",
       "4  Andhra Pradesh  Chittoor     Apple  Delicious medium size   Fruits  1 Kg   \n",
       "\n",
       "      Month  Retail Price  \n",
       "0     April     87.529412  \n",
       "1    August     92.888889  \n",
       "2  December     84.080460  \n",
       "3  February     86.858824  \n",
       "4   January     84.946237  "
      ]
     },
     "execution_count": 50,
     "metadata": {},
     "output_type": "execute_result"
    }
   ],
   "source": [
    "sales.head(5)"
   ]
  },
  {
   "cell_type": "markdown",
   "id": "a3914f16",
   "metadata": {},
   "source": [
    "### Building our model"
   ]
  },
  {
   "cell_type": "code",
   "execution_count": 51,
   "id": "75c94228",
   "metadata": {},
   "outputs": [],
   "source": [
    "# Define the 'features' and 'labels'\n",
    "X = sales.drop('Retail Price', axis='columns')\n",
    "y = sales['Retail Price']"
   ]
  },
  {
   "cell_type": "code",
   "execution_count": 52,
   "id": "baeab4a3",
   "metadata": {},
   "outputs": [],
   "source": [
    "# Define train : test dataset in 70 : 30 ratio\n",
    "from sklearn.model_selection import train_test_split\n",
    "X_train, X_test, y_train, y_test = train_test_split(X, y, test_size=0.3, random_state=1)"
   ]
  },
  {
   "cell_type": "code",
   "execution_count": 53,
   "id": "0fcf71a4",
   "metadata": {},
   "outputs": [
    {
     "data": {
      "text/html": [
       "<div>\n",
       "<style scoped>\n",
       "    .dataframe tbody tr th:only-of-type {\n",
       "        vertical-align: middle;\n",
       "    }\n",
       "\n",
       "    .dataframe tbody tr th {\n",
       "        vertical-align: top;\n",
       "    }\n",
       "\n",
       "    .dataframe thead th {\n",
       "        text-align: right;\n",
       "    }\n",
       "</style>\n",
       "<table border=\"1\" class=\"dataframe\">\n",
       "  <thead>\n",
       "    <tr style=\"text-align: right;\">\n",
       "      <th></th>\n",
       "      <th>State</th>\n",
       "      <th>Centre</th>\n",
       "      <th>Commodity</th>\n",
       "      <th>Variety</th>\n",
       "      <th>Category</th>\n",
       "      <th>Unit</th>\n",
       "      <th>Month</th>\n",
       "    </tr>\n",
       "  </thead>\n",
       "  <tbody>\n",
       "    <tr>\n",
       "      <th>37877</th>\n",
       "      <td>Rajasthan</td>\n",
       "      <td>Jaipur</td>\n",
       "      <td>Cummin Seed</td>\n",
       "      <td>Common</td>\n",
       "      <td>Spices</td>\n",
       "      <td>1 Kg</td>\n",
       "      <td>July</td>\n",
       "    </tr>\n",
       "    <tr>\n",
       "      <th>30276</th>\n",
       "      <td>Meghalaya</td>\n",
       "      <td>Shillong</td>\n",
       "      <td>Biscuit</td>\n",
       "      <td>Glucose</td>\n",
       "      <td>Grocery</td>\n",
       "      <td>80gm Packet</td>\n",
       "      <td>April</td>\n",
       "    </tr>\n",
       "    <tr>\n",
       "      <th>24776</th>\n",
       "      <td>Madhya Pradesh</td>\n",
       "      <td>Indore</td>\n",
       "      <td>Salt</td>\n",
       "      <td>Packet(iodized)</td>\n",
       "      <td>Spices</td>\n",
       "      <td>1 Kg</td>\n",
       "      <td>May</td>\n",
       "    </tr>\n",
       "    <tr>\n",
       "      <th>23753</th>\n",
       "      <td>Madhya Pradesh</td>\n",
       "      <td>Gwalior</td>\n",
       "      <td>Coffee</td>\n",
       "      <td>Instant</td>\n",
       "      <td>Beverages</td>\n",
       "      <td>500gm Packet</td>\n",
       "      <td>July</td>\n",
       "    </tr>\n",
       "    <tr>\n",
       "      <th>53021</th>\n",
       "      <td>Uttarakhand</td>\n",
       "      <td>Haldwani</td>\n",
       "      <td>Coriander</td>\n",
       "      <td>Powdered Agmark</td>\n",
       "      <td>Vegetables</td>\n",
       "      <td>100gm Packet</td>\n",
       "      <td>July</td>\n",
       "    </tr>\n",
       "  </tbody>\n",
       "</table>\n",
       "</div>"
      ],
      "text/plain": [
       "                State    Centre    Commodity          Variety    Category  \\\n",
       "37877       Rajasthan    Jaipur  Cummin Seed           Common      Spices   \n",
       "30276       Meghalaya  Shillong      Biscuit          Glucose     Grocery   \n",
       "24776  Madhya Pradesh    Indore         Salt  Packet(iodized)      Spices   \n",
       "23753  Madhya Pradesh   Gwalior       Coffee          Instant   Beverages   \n",
       "53021     Uttarakhand  Haldwani    Coriander  Powdered Agmark  Vegetables   \n",
       "\n",
       "               Unit  Month  \n",
       "37877          1 Kg   July  \n",
       "30276   80gm Packet  April  \n",
       "24776          1 Kg    May  \n",
       "23753  500gm Packet   July  \n",
       "53021  100gm Packet   July  "
      ]
     },
     "execution_count": 53,
     "metadata": {},
     "output_type": "execute_result"
    }
   ],
   "source": [
    "X_train.head(5)"
   ]
  },
  {
   "cell_type": "markdown",
   "id": "bc6d2ae7",
   "metadata": {},
   "source": [
    "### Linear Regression model"
   ]
  },
  {
   "cell_type": "code",
   "execution_count": 54,
   "id": "781ba97c",
   "metadata": {},
   "outputs": [],
   "source": [
    "from sklearn.compose import ColumnTransformer\n",
    "from sklearn.pipeline import Pipeline\n",
    "from sklearn.preprocessing import OneHotEncoder"
   ]
  },
  {
   "cell_type": "code",
   "execution_count": 55,
   "id": "541e8f17",
   "metadata": {},
   "outputs": [],
   "source": [
    "# Create Transformers\n",
    "trf1 = ColumnTransformer([\n",
    "    ('col_tnf', OneHotEncoder(sparse=False, drop='first'),[0,1,2,3,4,5,6])\n",
    "], remainder='passthrough')\n",
    "\n",
    "# Linear Regression model\n",
    "from sklearn.linear_model import LinearRegression\n",
    "trf2 = LinearRegression()\n",
    "\n",
    "# Create Pipeline\n",
    "model = Pipeline([\n",
    "    ('trf1', trf1),\n",
    "    ('trf2', trf2)\n",
    "])\n",
    "\n",
    "# Train the model on the training set\n",
    "model.fit(X_train, y_train)\n",
    "\n",
    "# Make predictions on the testing set\n",
    "y_pred = model.predict(X_test)"
   ]
  },
  {
   "cell_type": "code",
   "execution_count": 56,
   "id": "801fe476",
   "metadata": {},
   "outputs": [
    {
     "name": "stdout",
     "output_type": "stream",
     "text": [
      "Mean absolute error:  18.31579259964001\n",
      "Mean squared error:  1103.448431017151\n"
     ]
    }
   ],
   "source": [
    "# evaluating our model\n",
    "from sklearn.metrics import mean_absolute_error, mean_squared_error\n",
    "\n",
    "print(\"Mean absolute error: \", mean_absolute_error(y_test, y_pred))\n",
    "print(\"Mean squared error: \", mean_squared_error(y_test, y_pred))"
   ]
  },
  {
   "cell_type": "code",
   "execution_count": 57,
   "id": "ed9c7e6e",
   "metadata": {},
   "outputs": [
    {
     "data": {
      "text/html": [
       "<div>\n",
       "<style scoped>\n",
       "    .dataframe tbody tr th:only-of-type {\n",
       "        vertical-align: middle;\n",
       "    }\n",
       "\n",
       "    .dataframe tbody tr th {\n",
       "        vertical-align: top;\n",
       "    }\n",
       "\n",
       "    .dataframe thead th {\n",
       "        text-align: right;\n",
       "    }\n",
       "</style>\n",
       "<table border=\"1\" class=\"dataframe\">\n",
       "  <thead>\n",
       "    <tr style=\"text-align: right;\">\n",
       "      <th></th>\n",
       "      <th>Model</th>\n",
       "      <th>Accuracy(%)</th>\n",
       "    </tr>\n",
       "  </thead>\n",
       "  <tbody>\n",
       "    <tr>\n",
       "      <th>0</th>\n",
       "      <td>Simple Linear Regression</td>\n",
       "      <td>62.956904</td>\n",
       "    </tr>\n",
       "  </tbody>\n",
       "</table>\n",
       "</div>"
      ],
      "text/plain": [
       "                      Model  Accuracy(%)\n",
       "0  Simple Linear Regression    62.956904"
      ]
     },
     "execution_count": 57,
     "metadata": {},
     "output_type": "execute_result"
    }
   ],
   "source": [
    "from sklearn.metrics import r2_score\n",
    "\n",
    "score = r2_score(y_test, y_pred)*100\n",
    "\n",
    "# Create a dataframe to display accuracy\n",
    "results_df = pd.DataFrame(data=[[\"Simple Linear Regression\", score]],\n",
    "                          columns=['Model', 'Accuracy(%)'])\n",
    "results_df"
   ]
  },
  {
   "cell_type": "markdown",
   "id": "7b4433f6",
   "metadata": {},
   "source": [
    "### Random Forest Regressor model "
   ]
  },
  {
   "cell_type": "code",
   "execution_count": 58,
   "id": "8dd6b095",
   "metadata": {},
   "outputs": [],
   "source": [
    "# Create Transformers\n",
    "trf1 = ColumnTransformer([\n",
    "    ('col_tnf', OneHotEncoder(sparse=False, drop='first'),[0,1,2,3,4,5,6])\n",
    "], remainder='passthrough')\n",
    "\n",
    "# Random Forest Regressor\n",
    "from sklearn.ensemble import RandomForestRegressor\n",
    "trf2 = RandomForestRegressor(n_estimators=100, random_state=0)\n",
    "\n",
    "# Create Pipeline\n",
    "rf = Pipeline([\n",
    "    ('trf1', trf1),\n",
    "    ('trf2', trf2)\n",
    "])\n",
    "\n",
    "# Train the model on the training set\n",
    "rf.fit(X_train, y_train)\n",
    "\n",
    "# Make predictions on the testing set\n",
    "y_pred1 = rf.predict(X_test)"
   ]
  },
  {
   "cell_type": "code",
   "execution_count": 59,
   "id": "38bbc3d7",
   "metadata": {},
   "outputs": [
    {
     "name": "stdout",
     "output_type": "stream",
     "text": [
      "Mean absolute error:  3.11320109245716\n",
      "Mean squared error:  67.46370116708736\n"
     ]
    }
   ],
   "source": [
    "# evaluating our regressor model\n",
    "from sklearn.metrics import mean_absolute_error, mean_squared_error\n",
    "\n",
    "print(\"Mean absolute error: \", mean_absolute_error(y_test, y_pred1))\n",
    "print(\"Mean squared error: \", mean_squared_error(y_test, y_pred1))"
   ]
  },
  {
   "cell_type": "code",
   "execution_count": 60,
   "id": "b07b407a",
   "metadata": {},
   "outputs": [
    {
     "data": {
      "text/html": [
       "<div>\n",
       "<style scoped>\n",
       "    .dataframe tbody tr th:only-of-type {\n",
       "        vertical-align: middle;\n",
       "    }\n",
       "\n",
       "    .dataframe tbody tr th {\n",
       "        vertical-align: top;\n",
       "    }\n",
       "\n",
       "    .dataframe thead th {\n",
       "        text-align: right;\n",
       "    }\n",
       "</style>\n",
       "<table border=\"1\" class=\"dataframe\">\n",
       "  <thead>\n",
       "    <tr style=\"text-align: right;\">\n",
       "      <th></th>\n",
       "      <th>Model</th>\n",
       "      <th>Accuracy(%)</th>\n",
       "    </tr>\n",
       "  </thead>\n",
       "  <tbody>\n",
       "    <tr>\n",
       "      <th>0</th>\n",
       "      <td>Random Forest Regressor</td>\n",
       "      <td>97.735223</td>\n",
       "    </tr>\n",
       "  </tbody>\n",
       "</table>\n",
       "</div>"
      ],
      "text/plain": [
       "                     Model  Accuracy(%)\n",
       "0  Random Forest Regressor    97.735223"
      ]
     },
     "execution_count": 60,
     "metadata": {},
     "output_type": "execute_result"
    }
   ],
   "source": [
    "from sklearn.metrics import r2_score\n",
    "\n",
    "score = r2_score(y_test, y_pred1)*100\n",
    "\n",
    "# Create a dataframe to display accuracy\n",
    "results_df1 = pd.DataFrame(data=[[\"Random Forest Regressor\", score]],\n",
    "                          columns=['Model', 'Accuracy(%)'])\n",
    "results_df1"
   ]
  },
  {
   "cell_type": "code",
   "execution_count": 61,
   "id": "1aa0b65f",
   "metadata": {},
   "outputs": [
    {
     "data": {
      "text/html": [
       "<div>\n",
       "<style scoped>\n",
       "    .dataframe tbody tr th:only-of-type {\n",
       "        vertical-align: middle;\n",
       "    }\n",
       "\n",
       "    .dataframe tbody tr th {\n",
       "        vertical-align: top;\n",
       "    }\n",
       "\n",
       "    .dataframe thead th {\n",
       "        text-align: right;\n",
       "    }\n",
       "</style>\n",
       "<table border=\"1\" class=\"dataframe\">\n",
       "  <thead>\n",
       "    <tr style=\"text-align: right;\">\n",
       "      <th></th>\n",
       "      <th>Model</th>\n",
       "      <th>Accuracy(%)</th>\n",
       "    </tr>\n",
       "  </thead>\n",
       "  <tbody>\n",
       "    <tr>\n",
       "      <th>0</th>\n",
       "      <td>Simple Linear Regression</td>\n",
       "      <td>62.956904</td>\n",
       "    </tr>\n",
       "    <tr>\n",
       "      <th>1</th>\n",
       "      <td>Random Forest Regressor</td>\n",
       "      <td>97.735223</td>\n",
       "    </tr>\n",
       "  </tbody>\n",
       "</table>\n",
       "</div>"
      ],
      "text/plain": [
       "                      Model  Accuracy(%)\n",
       "0  Simple Linear Regression    62.956904\n",
       "1   Random Forest Regressor    97.735223"
      ]
     },
     "execution_count": 61,
     "metadata": {},
     "output_type": "execute_result"
    }
   ],
   "source": [
    "results_df = results_df.append(results_df1, ignore_index=True)\n",
    "results_df"
   ]
  },
  {
   "cell_type": "markdown",
   "id": "8ab7081d",
   "metadata": {},
   "source": [
    "### XGBoost Regressor"
   ]
  },
  {
   "cell_type": "code",
   "execution_count": 62,
   "id": "12ab29fd",
   "metadata": {},
   "outputs": [],
   "source": [
    "# Create Transformers\n",
    "trf1 = ColumnTransformer([\n",
    "    ('col_tnf', OneHotEncoder(sparse=False, drop='first'),[0,1,2,3,4,5,6])\n",
    "], remainder='passthrough')\n",
    "\n",
    "# XGBoost Regressor\n",
    "import xgboost as xgb\n",
    "from xgboost import XGBRegressor\n",
    "trf2 = XGBRegressor(max_depth=3)\n",
    "\n",
    "# Create Pipeline\n",
    "xgb_reg = Pipeline([\n",
    "    ('trf1', trf1),\n",
    "    ('trf2', trf2)\n",
    "])\n",
    "\n",
    "# Train the model on the training set\n",
    "xgb_reg.fit(X_train, y_train)\n",
    "\n",
    "# Make predictions on the testing set\n",
    "y_pred2 = xgb_reg.predict(X_test)"
   ]
  },
  {
   "cell_type": "code",
   "execution_count": 63,
   "id": "850f29a4",
   "metadata": {},
   "outputs": [
    {
     "name": "stdout",
     "output_type": "stream",
     "text": [
      "79.9132300653349\n"
     ]
    }
   ],
   "source": [
    "from sklearn.metrics import r2_score\n",
    "\n",
    "print(r2_score(y_test, y_pred2)*100)"
   ]
  },
  {
   "cell_type": "markdown",
   "id": "ca40ab87",
   "metadata": {},
   "source": [
    "##### Hyperparameter tuning in XGBoost Regressor"
   ]
  },
  {
   "cell_type": "code",
   "execution_count": 64,
   "id": "379ebf98",
   "metadata": {},
   "outputs": [],
   "source": [
    "# Create Transformers\n",
    "trf1 = ColumnTransformer([\n",
    "    ('col_tnf', OneHotEncoder(sparse=False, drop='first'),[0,1,2,3,4,5,6])\n",
    "], remainder='passthrough')\n",
    "\n",
    "# XGBoost Regressor with optimal hyperparameters\n",
    "import xgboost as xgb\n",
    "from xgboost import XGBRegressor\n",
    "trf2 = XGBRegressor(gamma=0.25, \n",
    "                    learning_rate=0.2, \n",
    "                    max_depth=7, \n",
    "                    n_estimators=1000, \n",
    "                    subsample=0.9,\n",
    "                    colsample_bylevel=0.8, \n",
    "                    colsample_bytree=0.8, \n",
    "                    min_child_weight=3.0)\n",
    "\n",
    "# Create Pipeline\n",
    "xgb = Pipeline([\n",
    "    ('trf1', trf1),\n",
    "    ('trf2', trf2)\n",
    "])\n",
    "\n",
    "# Train the model on the training set\n",
    "xgb.fit(X_train, y_train)\n",
    "\n",
    "# Make predictions on the testing set\n",
    "y_pred3 = xgb.predict(X_test)"
   ]
  },
  {
   "cell_type": "code",
   "execution_count": 65,
   "id": "8d7b0aca",
   "metadata": {},
   "outputs": [
    {
     "name": "stdout",
     "output_type": "stream",
     "text": [
      "Score:  0.9810488561821924\n"
     ]
    }
   ],
   "source": [
    "print(\"Score: \", xgb.score(X_test, y_test))"
   ]
  },
  {
   "cell_type": "code",
   "execution_count": 66,
   "id": "8dc694f4",
   "metadata": {},
   "outputs": [
    {
     "name": "stdout",
     "output_type": "stream",
     "text": [
      "Mean absolute error:  3.6496529501486212\n",
      "Mean squared error:  56.45211235013991\n"
     ]
    }
   ],
   "source": [
    "# evaluating our xgb regressor model\n",
    "from sklearn.metrics import mean_absolute_error, mean_squared_error\n",
    "\n",
    "print(\"Mean absolute error: \", mean_absolute_error(y_test, y_pred3))\n",
    "print(\"Mean squared error: \", mean_squared_error(y_test, y_pred3))"
   ]
  },
  {
   "cell_type": "code",
   "execution_count": 67,
   "id": "f19413d4",
   "metadata": {},
   "outputs": [
    {
     "data": {
      "text/html": [
       "<div>\n",
       "<style scoped>\n",
       "    .dataframe tbody tr th:only-of-type {\n",
       "        vertical-align: middle;\n",
       "    }\n",
       "\n",
       "    .dataframe tbody tr th {\n",
       "        vertical-align: top;\n",
       "    }\n",
       "\n",
       "    .dataframe thead th {\n",
       "        text-align: right;\n",
       "    }\n",
       "</style>\n",
       "<table border=\"1\" class=\"dataframe\">\n",
       "  <thead>\n",
       "    <tr style=\"text-align: right;\">\n",
       "      <th></th>\n",
       "      <th>Model</th>\n",
       "      <th>Accuracy(%)</th>\n",
       "    </tr>\n",
       "  </thead>\n",
       "  <tbody>\n",
       "    <tr>\n",
       "      <th>0</th>\n",
       "      <td>XGBoost Regressor</td>\n",
       "      <td>98.104886</td>\n",
       "    </tr>\n",
       "  </tbody>\n",
       "</table>\n",
       "</div>"
      ],
      "text/plain": [
       "               Model  Accuracy(%)\n",
       "0  XGBoost Regressor    98.104886"
      ]
     },
     "execution_count": 67,
     "metadata": {},
     "output_type": "execute_result"
    }
   ],
   "source": [
    "from sklearn.metrics import r2_score\n",
    "\n",
    "score = r2_score(y_test, y_pred3)*100\n",
    "\n",
    "# Create a dataframe to display accuracy\n",
    "results_df2 = pd.DataFrame(data=[[\"XGBoost Regressor\", score]],\n",
    "                          columns=['Model', 'Accuracy(%)'])\n",
    "results_df2"
   ]
  },
  {
   "cell_type": "code",
   "execution_count": 68,
   "id": "de07d69e",
   "metadata": {},
   "outputs": [
    {
     "data": {
      "text/html": [
       "<div>\n",
       "<style scoped>\n",
       "    .dataframe tbody tr th:only-of-type {\n",
       "        vertical-align: middle;\n",
       "    }\n",
       "\n",
       "    .dataframe tbody tr th {\n",
       "        vertical-align: top;\n",
       "    }\n",
       "\n",
       "    .dataframe thead th {\n",
       "        text-align: right;\n",
       "    }\n",
       "</style>\n",
       "<table border=\"1\" class=\"dataframe\">\n",
       "  <thead>\n",
       "    <tr style=\"text-align: right;\">\n",
       "      <th></th>\n",
       "      <th>Model</th>\n",
       "      <th>Accuracy(%)</th>\n",
       "    </tr>\n",
       "  </thead>\n",
       "  <tbody>\n",
       "    <tr>\n",
       "      <th>0</th>\n",
       "      <td>Simple Linear Regression</td>\n",
       "      <td>62.956904</td>\n",
       "    </tr>\n",
       "    <tr>\n",
       "      <th>1</th>\n",
       "      <td>Random Forest Regressor</td>\n",
       "      <td>97.735223</td>\n",
       "    </tr>\n",
       "    <tr>\n",
       "      <th>2</th>\n",
       "      <td>XGBoost Regressor</td>\n",
       "      <td>98.104886</td>\n",
       "    </tr>\n",
       "  </tbody>\n",
       "</table>\n",
       "</div>"
      ],
      "text/plain": [
       "                      Model  Accuracy(%)\n",
       "0  Simple Linear Regression    62.956904\n",
       "1   Random Forest Regressor    97.735223\n",
       "2         XGBoost Regressor    98.104886"
      ]
     },
     "execution_count": 68,
     "metadata": {},
     "output_type": "execute_result"
    }
   ],
   "source": [
    "results_df = results_df.append(results_df2, ignore_index=True)\n",
    "results_df"
   ]
  },
  {
   "cell_type": "code",
   "execution_count": 69,
   "id": "37a35c68",
   "metadata": {},
   "outputs": [],
   "source": [
    "# Clearly, XGBoost Regressor gave the best score"
   ]
  },
  {
   "cell_type": "markdown",
   "id": "59466cff",
   "metadata": {},
   "source": [
    "### Making predictions"
   ]
  },
  {
   "cell_type": "code",
   "execution_count": 70,
   "id": "846a4d1f",
   "metadata": {},
   "outputs": [
    {
     "data": {
      "text/plain": [
       "Index(['State', 'Centre', 'Commodity', 'Variety', 'Category', 'Unit', 'Month'], dtype='object')"
      ]
     },
     "execution_count": 70,
     "metadata": {},
     "output_type": "execute_result"
    }
   ],
   "source": [
    "X.columns"
   ]
  },
  {
   "cell_type": "code",
   "execution_count": 71,
   "id": "06d28ce4",
   "metadata": {},
   "outputs": [],
   "source": [
    "# loading the model we will use to make predictions\n",
    "pred = xgb.predict(X_test)"
   ]
  },
  {
   "cell_type": "code",
   "execution_count": 72,
   "id": "3aaaec90",
   "metadata": {},
   "outputs": [
    {
     "data": {
      "text/html": [
       "<div>\n",
       "<style scoped>\n",
       "    .dataframe tbody tr th:only-of-type {\n",
       "        vertical-align: middle;\n",
       "    }\n",
       "\n",
       "    .dataframe tbody tr th {\n",
       "        vertical-align: top;\n",
       "    }\n",
       "\n",
       "    .dataframe thead th {\n",
       "        text-align: right;\n",
       "    }\n",
       "</style>\n",
       "<table border=\"1\" class=\"dataframe\">\n",
       "  <thead>\n",
       "    <tr style=\"text-align: right;\">\n",
       "      <th></th>\n",
       "      <th>Actual</th>\n",
       "      <th>Predicted</th>\n",
       "    </tr>\n",
       "  </thead>\n",
       "  <tbody>\n",
       "    <tr>\n",
       "      <th>12728</th>\n",
       "      <td>41.617978</td>\n",
       "      <td>46.942669</td>\n",
       "    </tr>\n",
       "    <tr>\n",
       "      <th>57476</th>\n",
       "      <td>34.595506</td>\n",
       "      <td>31.067127</td>\n",
       "    </tr>\n",
       "    <tr>\n",
       "      <th>28998</th>\n",
       "      <td>146.081395</td>\n",
       "      <td>146.678406</td>\n",
       "    </tr>\n",
       "    <tr>\n",
       "      <th>32506</th>\n",
       "      <td>38.000000</td>\n",
       "      <td>37.030582</td>\n",
       "    </tr>\n",
       "    <tr>\n",
       "      <th>7795</th>\n",
       "      <td>38.033333</td>\n",
       "      <td>40.661011</td>\n",
       "    </tr>\n",
       "    <tr>\n",
       "      <th>...</th>\n",
       "      <td>...</td>\n",
       "      <td>...</td>\n",
       "    </tr>\n",
       "    <tr>\n",
       "      <th>52126</th>\n",
       "      <td>31.363636</td>\n",
       "      <td>31.450871</td>\n",
       "    </tr>\n",
       "    <tr>\n",
       "      <th>26405</th>\n",
       "      <td>75.000000</td>\n",
       "      <td>74.893219</td>\n",
       "    </tr>\n",
       "    <tr>\n",
       "      <th>31639</th>\n",
       "      <td>40.066667</td>\n",
       "      <td>40.902859</td>\n",
       "    </tr>\n",
       "    <tr>\n",
       "      <th>8301</th>\n",
       "      <td>37.678161</td>\n",
       "      <td>35.164307</td>\n",
       "    </tr>\n",
       "    <tr>\n",
       "      <th>39926</th>\n",
       "      <td>108.344828</td>\n",
       "      <td>125.008835</td>\n",
       "    </tr>\n",
       "  </tbody>\n",
       "</table>\n",
       "<p>17248 rows × 2 columns</p>\n",
       "</div>"
      ],
      "text/plain": [
       "           Actual   Predicted\n",
       "12728   41.617978   46.942669\n",
       "57476   34.595506   31.067127\n",
       "28998  146.081395  146.678406\n",
       "32506   38.000000   37.030582\n",
       "7795    38.033333   40.661011\n",
       "...           ...         ...\n",
       "52126   31.363636   31.450871\n",
       "26405   75.000000   74.893219\n",
       "31639   40.066667   40.902859\n",
       "8301    37.678161   35.164307\n",
       "39926  108.344828  125.008835\n",
       "\n",
       "[17248 rows x 2 columns]"
      ]
     },
     "execution_count": 72,
     "metadata": {},
     "output_type": "execute_result"
    }
   ],
   "source": [
    "df = pd.DataFrame({'Actual': y_test, 'Predicted': pred})\n",
    "df"
   ]
  },
  {
   "cell_type": "code",
   "execution_count": 73,
   "id": "24751191",
   "metadata": {},
   "outputs": [],
   "source": [
    "final_df = df['Predicted']\n",
    "final_df = df.drop('Actual', axis=1)"
   ]
  },
  {
   "cell_type": "code",
   "execution_count": 74,
   "id": "7a9b505a",
   "metadata": {},
   "outputs": [],
   "source": [
    "X[\"Retail Price\"] = final_df"
   ]
  },
  {
   "cell_type": "code",
   "execution_count": 75,
   "id": "c2f5fdb9",
   "metadata": {},
   "outputs": [
    {
     "name": "stdout",
     "output_type": "stream",
     "text": [
      "Successfully Exported!!\n"
     ]
    }
   ],
   "source": [
    "export_csv = X.to_csv(r'C:\\Users\\Rajashri\\Desktop\\Resume\\Resume Projects\\Sales prediction\\website\\predictions(1).csv', \n",
    "                      index=None, header=True)\n",
    "print(\"Successfully Exported!!\")"
   ]
  },
  {
   "cell_type": "markdown",
   "id": "15bee171",
   "metadata": {},
   "source": [
    "### Dump our models into a pickle file"
   ]
  },
  {
   "cell_type": "code",
   "execution_count": 76,
   "id": "65491b1f",
   "metadata": {},
   "outputs": [],
   "source": [
    "# dump the ML models into a 'pickle' file\n",
    "import pickle\n",
    "\n",
    "pickle.dump(sales, open(r'C:\\Users\\Rajashri\\Desktop\\Resume\\Resume Projects\\Sales prediction\\website\\sales(1).pkl', 'wb'))\n",
    "pickle.dump(model, open(r'C:\\Users\\Rajashri\\Desktop\\Resume\\Resume Projects\\Sales prediction\\website\\model(1).pkl', 'wb'))"
   ]
  },
  {
   "cell_type": "code",
   "execution_count": null,
   "id": "08c1865e",
   "metadata": {},
   "outputs": [],
   "source": []
  }
 ],
 "metadata": {
  "kernelspec": {
   "display_name": "Python 3 (ipykernel)",
   "language": "python",
   "name": "python3"
  },
  "language_info": {
   "codemirror_mode": {
    "name": "ipython",
    "version": 3
   },
   "file_extension": ".py",
   "mimetype": "text/x-python",
   "name": "python",
   "nbconvert_exporter": "python",
   "pygments_lexer": "ipython3",
   "version": "3.9.12"
  }
 },
 "nbformat": 4,
 "nbformat_minor": 5
}
